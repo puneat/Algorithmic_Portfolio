{
  "nbformat": 4,
  "nbformat_minor": 0,
  "metadata": {
    "colab": {
      "name": "Portfolio Investment.ipynb",
      "provenance": [],
      "collapsed_sections": [
        "RyInEtwpzDgp",
        "-Ac_EJ0Enk3k",
        "yESCTqfUnKQm",
        "afrAlGeQnW-P",
        "g6wDstLxowIT"
      ],
      "include_colab_link": true
    },
    "kernelspec": {
      "name": "python3",
      "display_name": "Python 3"
    },
    "accelerator": "GPU"
  },
  "cells": [
    {
      "cell_type": "markdown",
      "metadata": {
        "id": "view-in-github",
        "colab_type": "text"
      },
      "source": [
        "<a href=\"https://colab.research.google.com/github/puneat/Algorithmic_Portfolio/blob/master/Portfolio_Investment.ipynb\" target=\"_parent\"><img src=\"https://colab.research.google.com/assets/colab-badge.svg\" alt=\"Open In Colab\"/></a>"
      ]
    },
    {
      "cell_type": "code",
      "metadata": {
        "id": "shw7-phs_5ep",
        "colab_type": "code",
        "colab": {
          "base_uri": "https://localhost:8080/",
          "height": 35
        },
        "outputId": "d9b2ac39-a719-45dc-856e-5289d9d2b8e3"
      },
      "source": [
        "from google.colab import drive\n",
        "drive.mount('/gdrive', force_remount=True)"
      ],
      "execution_count": 2,
      "outputs": [
        {
          "output_type": "stream",
          "text": [
            "Mounted at /gdrive\n"
          ],
          "name": "stdout"
        }
      ]
    },
    {
      "cell_type": "code",
      "metadata": {
        "id": "opWqvLTOPPn0",
        "colab_type": "code",
        "colab": {
          "base_uri": "https://localhost:8080/",
          "height": 199
        },
        "outputId": "066b19c6-6e51-4b14-dc06-d6bc144e15ea"
      },
      "source": [
        "!pip install hmmlearn"
      ],
      "execution_count": 3,
      "outputs": [
        {
          "output_type": "stream",
          "text": [
            "Collecting hmmlearn\n",
            "\u001b[?25l  Downloading https://files.pythonhosted.org/packages/b3/49/9e9a89cee24b26ef6afec5abbd5eb9cf14632855f32b999389873ecb1b4e/hmmlearn-0.2.4-cp36-cp36m-manylinux1_x86_64.whl (361kB)\n",
            "\r\u001b[K     |█                               | 10kB 27.4MB/s eta 0:00:01\r\u001b[K     |█▉                              | 20kB 6.1MB/s eta 0:00:01\r\u001b[K     |██▊                             | 30kB 7.1MB/s eta 0:00:01\r\u001b[K     |███▋                            | 40kB 8.2MB/s eta 0:00:01\r\u001b[K     |████▌                           | 51kB 6.8MB/s eta 0:00:01\r\u001b[K     |█████▍                          | 61kB 7.2MB/s eta 0:00:01\r\u001b[K     |██████▍                         | 71kB 8.1MB/s eta 0:00:01\r\u001b[K     |███████▎                        | 81kB 8.6MB/s eta 0:00:01\r\u001b[K     |████████▏                       | 92kB 8.2MB/s eta 0:00:01\r\u001b[K     |█████████                       | 102kB 8.4MB/s eta 0:00:01\r\u001b[K     |██████████                      | 112kB 8.4MB/s eta 0:00:01\r\u001b[K     |██████████▉                     | 122kB 8.4MB/s eta 0:00:01\r\u001b[K     |███████████▉                    | 133kB 8.4MB/s eta 0:00:01\r\u001b[K     |████████████▊                   | 143kB 8.4MB/s eta 0:00:01\r\u001b[K     |█████████████▋                  | 153kB 8.4MB/s eta 0:00:01\r\u001b[K     |██████████████▌                 | 163kB 8.4MB/s eta 0:00:01\r\u001b[K     |███████████████▍                | 174kB 8.4MB/s eta 0:00:01\r\u001b[K     |████████████████▎               | 184kB 8.4MB/s eta 0:00:01\r\u001b[K     |█████████████████▎              | 194kB 8.4MB/s eta 0:00:01\r\u001b[K     |██████████████████▏             | 204kB 8.4MB/s eta 0:00:01\r\u001b[K     |███████████████████             | 215kB 8.4MB/s eta 0:00:01\r\u001b[K     |████████████████████            | 225kB 8.4MB/s eta 0:00:01\r\u001b[K     |████████████████████▉           | 235kB 8.4MB/s eta 0:00:01\r\u001b[K     |█████████████████████▊          | 245kB 8.4MB/s eta 0:00:01\r\u001b[K     |██████████████████████▊         | 256kB 8.4MB/s eta 0:00:01\r\u001b[K     |███████████████████████▋        | 266kB 8.4MB/s eta 0:00:01\r\u001b[K     |████████████████████████▌       | 276kB 8.4MB/s eta 0:00:01\r\u001b[K     |█████████████████████████▍      | 286kB 8.4MB/s eta 0:00:01\r\u001b[K     |██████████████████████████▎     | 296kB 8.4MB/s eta 0:00:01\r\u001b[K     |███████████████████████████▏    | 307kB 8.4MB/s eta 0:00:01\r\u001b[K     |████████████████████████████    | 317kB 8.4MB/s eta 0:00:01\r\u001b[K     |█████████████████████████████   | 327kB 8.4MB/s eta 0:00:01\r\u001b[K     |██████████████████████████████  | 337kB 8.4MB/s eta 0:00:01\r\u001b[K     |██████████████████████████████▉ | 348kB 8.4MB/s eta 0:00:01\r\u001b[K     |███████████████████████████████▊| 358kB 8.4MB/s eta 0:00:01\r\u001b[K     |████████████████████████████████| 368kB 8.4MB/s \n",
            "\u001b[?25hRequirement already satisfied: numpy>=1.10 in /usr/local/lib/python3.6/dist-packages (from hmmlearn) (1.18.5)\n",
            "Requirement already satisfied: scipy>=0.19 in /usr/local/lib/python3.6/dist-packages (from hmmlearn) (1.4.1)\n",
            "Requirement already satisfied: scikit-learn>=0.16 in /usr/local/lib/python3.6/dist-packages (from hmmlearn) (0.22.2.post1)\n",
            "Requirement already satisfied: joblib>=0.11 in /usr/local/lib/python3.6/dist-packages (from scikit-learn>=0.16->hmmlearn) (0.16.0)\n",
            "Installing collected packages: hmmlearn\n",
            "Successfully installed hmmlearn-0.2.4\n"
          ],
          "name": "stdout"
        }
      ]
    },
    {
      "cell_type": "code",
      "metadata": {
        "id": "vWcaazlFEdzI",
        "colab_type": "code",
        "colab": {
          "base_uri": "https://localhost:8080/",
          "height": 269
        },
        "outputId": "ac339eb7-09e5-400d-ba55-a3b0771ef8f0"
      },
      "source": [
        "!pip3 install ta"
      ],
      "execution_count": 5,
      "outputs": [
        {
          "output_type": "stream",
          "text": [
            "Collecting ta\n",
            "  Downloading https://files.pythonhosted.org/packages/90/ec/e4f5aea8c7f0f55f92b52ffbafa389ea82f3a10d9cab2760e40af34c5b3f/ta-0.5.25.tar.gz\n",
            "Requirement already satisfied: numpy in /usr/local/lib/python3.6/dist-packages (from ta) (1.18.5)\n",
            "Requirement already satisfied: pandas in /usr/local/lib/python3.6/dist-packages (from ta) (1.0.5)\n",
            "Requirement already satisfied: pytz>=2017.2 in /usr/local/lib/python3.6/dist-packages (from pandas->ta) (2018.9)\n",
            "Requirement already satisfied: python-dateutil>=2.6.1 in /usr/local/lib/python3.6/dist-packages (from pandas->ta) (2.8.1)\n",
            "Requirement already satisfied: six>=1.5 in /usr/local/lib/python3.6/dist-packages (from python-dateutil>=2.6.1->pandas->ta) (1.15.0)\n",
            "Building wheels for collected packages: ta\n",
            "  Building wheel for ta (setup.py) ... \u001b[?25l\u001b[?25hdone\n",
            "  Created wheel for ta: filename=ta-0.5.25-cp36-none-any.whl size=24880 sha256=f131152456526fcb5b373c7d949da59a53ab47bee0de3d85d7d2b1fd66d423b8\n",
            "  Stored in directory: /root/.cache/pip/wheels/2e/93/b7/cf649194508e53cee4145ffb949e9f26877a5a8dd12db9ed5b\n",
            "Successfully built ta\n",
            "Installing collected packages: ta\n",
            "Successfully installed ta-0.5.25\n"
          ],
          "name": "stdout"
        }
      ]
    },
    {
      "cell_type": "code",
      "metadata": {
        "id": "yXdUjw1TXK67",
        "colab_type": "code",
        "colab": {}
      },
      "source": [
        "import pandas as pd\n",
        "import numpy as np\n",
        "import matplotlib\n",
        "import matplotlib.pyplot as plt\n",
        "import lightgbm as lgb\n",
        "from sklearn.preprocessing import StandardScaler\n",
        "import pandas as pd\n",
        "from ta import add_all_ta_features\n",
        "from ta.utils import dropna\n",
        "from sklearn.svm import SVR\n",
        "from sklearn.model_selection import GridSearchCV\n",
        "import statsmodels as sm\n",
        "import statsmodels.formula.api as smf\n",
        "from sklearn.metrics import mean_absolute_error\n",
        "import warnings\n",
        "warnings.filterwarnings(\"ignore\")\n",
        "import itertools"
      ],
      "execution_count": 104,
      "outputs": []
    },
    {
      "cell_type": "code",
      "metadata": {
        "id": "q6dvwO_RGW15",
        "colab_type": "code",
        "colab": {
          "base_uri": "https://localhost:8080/",
          "height": 253
        },
        "outputId": "5156f7d1-4c0b-4f3b-d94a-2d69dc1882ac"
      },
      "source": [
        "data = read_price_data(638)\n",
        "data.head()"
      ],
      "execution_count": 17,
      "outputs": [
        {
          "output_type": "stream",
          "text": [
            "VRSK.US Equity\n"
          ],
          "name": "stdout"
        },
        {
          "output_type": "execute_result",
          "data": {
            "text/html": [
              "<div>\n",
              "<style scoped>\n",
              "    .dataframe tbody tr th:only-of-type {\n",
              "        vertical-align: middle;\n",
              "    }\n",
              "\n",
              "    .dataframe tbody tr th {\n",
              "        vertical-align: top;\n",
              "    }\n",
              "\n",
              "    .dataframe thead th {\n",
              "        text-align: right;\n",
              "    }\n",
              "</style>\n",
              "<table border=\"1\" class=\"dataframe\">\n",
              "  <thead>\n",
              "    <tr style=\"text-align: right;\">\n",
              "      <th></th>\n",
              "      <th>open</th>\n",
              "      <th>high</th>\n",
              "      <th>low</th>\n",
              "      <th>close</th>\n",
              "      <th>volume</th>\n",
              "      <th>bb_live</th>\n",
              "    </tr>\n",
              "    <tr>\n",
              "      <th>date</th>\n",
              "      <th></th>\n",
              "      <th></th>\n",
              "      <th></th>\n",
              "      <th></th>\n",
              "      <th></th>\n",
              "      <th></th>\n",
              "    </tr>\n",
              "  </thead>\n",
              "  <tbody>\n",
              "    <tr>\n",
              "      <th>2007-01-03</th>\n",
              "      <td>1.000000</td>\n",
              "      <td>NaN</td>\n",
              "      <td>NaN</td>\n",
              "      <td>NaN</td>\n",
              "      <td>NaN</td>\n",
              "      <td>NaN</td>\n",
              "    </tr>\n",
              "    <tr>\n",
              "      <th>2007-01-04</th>\n",
              "      <td>0.982633</td>\n",
              "      <td>NaN</td>\n",
              "      <td>NaN</td>\n",
              "      <td>NaN</td>\n",
              "      <td>NaN</td>\n",
              "      <td>NaN</td>\n",
              "    </tr>\n",
              "    <tr>\n",
              "      <th>2007-01-05</th>\n",
              "      <td>0.973673</td>\n",
              "      <td>NaN</td>\n",
              "      <td>NaN</td>\n",
              "      <td>NaN</td>\n",
              "      <td>NaN</td>\n",
              "      <td>NaN</td>\n",
              "    </tr>\n",
              "    <tr>\n",
              "      <th>2007-01-08</th>\n",
              "      <td>0.959063</td>\n",
              "      <td>NaN</td>\n",
              "      <td>NaN</td>\n",
              "      <td>NaN</td>\n",
              "      <td>NaN</td>\n",
              "      <td>NaN</td>\n",
              "    </tr>\n",
              "    <tr>\n",
              "      <th>2007-01-09</th>\n",
              "      <td>0.974087</td>\n",
              "      <td>NaN</td>\n",
              "      <td>NaN</td>\n",
              "      <td>NaN</td>\n",
              "      <td>NaN</td>\n",
              "      <td>NaN</td>\n",
              "    </tr>\n",
              "  </tbody>\n",
              "</table>\n",
              "</div>"
            ],
            "text/plain": [
              "                open  high  low  close  volume  bb_live\n",
              "date                                                   \n",
              "2007-01-03  1.000000   NaN  NaN    NaN     NaN      NaN\n",
              "2007-01-04  0.982633   NaN  NaN    NaN     NaN      NaN\n",
              "2007-01-05  0.973673   NaN  NaN    NaN     NaN      NaN\n",
              "2007-01-08  0.959063   NaN  NaN    NaN     NaN      NaN\n",
              "2007-01-09  0.974087   NaN  NaN    NaN     NaN      NaN"
            ]
          },
          "metadata": {
            "tags": []
          },
          "execution_count": 17
        }
      ]
    },
    {
      "cell_type": "code",
      "metadata": {
        "id": "qutBhPUaZNq6",
        "colab_type": "code",
        "colab": {
          "base_uri": "https://localhost:8080/",
          "height": 395
        },
        "outputId": "ad47732d-22c7-46d9-962e-58d8b94cf828"
      },
      "source": [
        "from hmmlearn.hmm import GaussianHMM\n",
        "data = read_price_data(43)\n",
        "returns = data.bb_live[:100].pct_change()\n",
        "returns =np.column_stack(returns[1:])\n",
        "\n",
        "returns"
      ],
      "execution_count": 19,
      "outputs": [
        {
          "output_type": "stream",
          "text": [
            "AMZN.US Equity\n"
          ],
          "name": "stdout"
        },
        {
          "output_type": "execute_result",
          "data": {
            "text/plain": [
              "array([[ 0.00516793, -0.01362466, -0.0226739 ,  0.00746663, -0.01667553,\n",
              "         0.0067295 ,  0.02139039,  0.0120419 , -0.0201759 , -0.02375922,\n",
              "         0.00108158, -0.00189083, -0.01407302,  0.02278338, -0.00483092,\n",
              "        -0.00620281,  0.01573947, -0.01015226,  0.01673416,  0.02734269,\n",
              "        -0.03385012, -0.00615139,  0.02987085,  0.01855238,  0.00307847,\n",
              "        -0.00971864,  0.00335744,  0.01184038,  0.02111423, -0.00199297,\n",
              "         0.00673987,  0.02925866, -0.00602271, -0.0063015 , -0.00536583,\n",
              "         0.00244979, -0.05014452,  0.00798352, -0.00740929, -0.02985846,\n",
              "        -0.01698061,  0.04129557, -0.00570247, -0.0067779 ,  0.01942255,\n",
              "        -0.00077239, -0.02550889,  0.00687467, -0.00787813,  0.00185285,\n",
              "         0.01585205,  0.00338102,  0.03162262, -0.007789  , -0.01291464,\n",
              "         0.00076962,  0.00922836, -0.00076194,  0.01194713, -0.0005024 ,\n",
              "         0.01583312,  0.0190499 ,  0.00825457,  0.00361172, -0.00047986,\n",
              "         0.00480088, -0.00430015,  0.01415549,  0.00331207,  0.06578642,\n",
              "        -0.00287615, -0.00177497, -0.00777958,  0.00694441, -0.00400437,\n",
              "        -0.00044674,  0.26949725,  0.10510472, -0.00286718, -0.02030318,\n",
              "         0.01157674, -0.01386199,  0.01650867,  0.01672289, -0.03811481,\n",
              "         0.01660639,  0.01649688, -0.03070804,  0.01050553,  0.00227419,\n",
              "        -0.01815232,  0.04357877, -0.01660872,  0.01817596,  0.07898902,\n",
              "         0.00849191,  0.00174217,  0.00507245, -0.0115357 ]])"
            ]
          },
          "metadata": {
            "tags": []
          },
          "execution_count": 19
        }
      ]
    },
    {
      "cell_type": "code",
      "metadata": {
        "id": "nMiVmQ-OSXer",
        "colab_type": "code",
        "colab": {
          "base_uri": "https://localhost:8080/",
          "height": 35
        },
        "outputId": "5ec7e325-3497-464f-d9a7-c91d7dc13bd8"
      },
      "source": [
        "returns.shape"
      ],
      "execution_count": 31,
      "outputs": [
        {
          "output_type": "execute_result",
          "data": {
            "text/plain": [
              "(2516, 1)"
            ]
          },
          "metadata": {
            "tags": []
          },
          "execution_count": 31
        }
      ]
    },
    {
      "cell_type": "code",
      "metadata": {
        "id": "SDWjVLaVVMam",
        "colab_type": "code",
        "colab": {}
      },
      "source": [
        "from hmmlearn.hmm import GaussianHMM\n",
        "data = pd.read_csv('/gdrive/My Drive/UBS/S&P500/data/secondary_data.csv')\n",
        "data['return'] = data['SPX Index'].pct_change()\n",
        "data=data.dropna()\n",
        "returns =np.vstack(data['return'])\n",
        "hmm_model = GaussianHMM(n_components=2, covariance_type=\"full\", n_iter=5000).fit(returns)"
      ],
      "execution_count": 58,
      "outputs": []
    },
    {
      "cell_type": "code",
      "metadata": {
        "id": "VfRNV66GUS3g",
        "colab_type": "code",
        "colab": {
          "base_uri": "https://localhost:8080/",
          "height": 35
        },
        "outputId": "03336efa-e4c7-4b5b-aefb-8eaeade9313f"
      },
      "source": [
        "print(\"Model Score:\", hmm_model.score(returns))"
      ],
      "execution_count": 59,
      "outputs": [
        {
          "output_type": "stream",
          "text": [
            "Model Score: 6748.508002043049\n"
          ],
          "name": "stdout"
        }
      ]
    },
    {
      "cell_type": "code",
      "metadata": {
        "id": "7QYBufsQQ4fU",
        "colab_type": "code",
        "colab": {
          "base_uri": "https://localhost:8080/",
          "height": 268
        },
        "outputId": "aa58b1a1-1182-4fbf-b26a-760174129472"
      },
      "source": [
        "from matplotlib import cm, pyplot as plt\n",
        "from matplotlib.dates import YearLocator, MonthLocator\n",
        "import numpy as np\n",
        "import pandas as pd\n",
        "import seaborn as sns\n",
        "# Predict the hidden states array\n",
        "hidden_states = hmm_model.predict(returns)\n",
        "# Create the correctly formatted plot\n",
        "fig, axs = plt.subplots(hmm_model.n_components, sharex=True, sharey=True)\n",
        "colours = cm.rainbow(np.linspace(0, 1, hmm_model.n_components))\n",
        "for i, (ax, colour) in enumerate(zip(axs, colours)):\n",
        "  mask = hidden_states == i\n",
        "  ax.plot_date(data.index[mask], data[\"SPX Index\"][mask], \".\", linestyle='none', c=colour)\n",
        "  ax.set_title(\"Hidden State #%s\" % i)\n",
        "  ax.xaxis.set_major_locator(YearLocator())\n",
        "  ax.xaxis.set_minor_locator(MonthLocator())\n",
        "  ax.grid(True)\n",
        "plt.show()"
      ],
      "execution_count": 63,
      "outputs": [
        {
          "output_type": "display_data",
          "data": {
            "image/png": "[encoded data removed]",
            "text/plain": [
              "<Figure size 432x288 with 2 Axes>"
            ]
          },
          "metadata": {
            "tags": [],
            "needs_background": "light"
          }
        }
      ]
    },
    {
      "cell_type": "code",
      "metadata": {
        "id": "Dh1zlk4phxht",
        "colab_type": "code",
        "colab": {}
      },
      "source": [
        "from sklearn.decomposition import PCA"
      ],
      "execution_count": 65,
      "outputs": []
    },
    {
      "cell_type": "code",
      "metadata": {
        "id": "cbYb0HPtgiGO",
        "colab_type": "code",
        "colab": {
          "base_uri": "https://localhost:8080/",
          "height": 244
        },
        "outputId": "d64496d6-646f-4abd-ae2a-a00c718128ac"
      },
      "source": [
        "def get_pf_covar_mtxs(self):\n",
        "  pf_covar_mtxs=dict()\n",
        "\n",
        "  for j in self.weights.column.levels[0]:\n",
        "    for i in self.weights.columns.levels[1]:\n",
        "      pf_vector = pd.dataFrame(self.portfolio_generation_mtx[j,i])\n",
        "      pf_covar_mtxs[j,i] = pf_vector.dot(pf_vector.T)*self.investment_universe.covar_mtx\n",
        "\n",
        "  return pf_covar_mtxs\n",
        "\n",
        "self.covar_mtxs=get_pf_covar_mtxs(self)\n",
        "\n",
        "def portfolio_eigenvalue_explained_variance(pf_covar_mtx):\n",
        "  pca=PCA()\n",
        "  return pca.fit(pf_covar_mtx).explained_variance_ratio_\n",
        "\n",
        "def get_pf_eigenvalue_explvars(self):\n",
        "  pf_eigenvalue_explvars = pd.DataFrame()\n",
        "  for j in self.weights.column.levels[0]:\n",
        "    for i in self.weights.columns.levels[1]:\n",
        "      pf_vector = pd.dataFrame(data=portfolio_eigenvalue_explained_variance(self.covar_mtxs[j,i]),\n",
        "                               index=pd.RangeIndex(1,len(self.covar_mtxs[j,i].index)+1),\n",
        "                               columns=pd.MultiIndex.from_tuples([(j,i)],names=('NumOfPosn','SimID')))\n",
        "      \n",
        "      pf_eigenvalue_explvars = pd.concat([pf_vector,pf_eigenvalue_explvars],axis=1)\n",
        "\n",
        "  return pf_eigenvalue_explvars"
      ],
      "execution_count": 66,
      "outputs": [
        {
          "output_type": "error",
          "ename": "NameError",
          "evalue": "ignored",
          "traceback": [
            "\u001b[0;31m---------------------------------------------------------------------------\u001b[0m",
            "\u001b[0;31mNameError\u001b[0m                                 Traceback (most recent call last)",
            "\u001b[0;32m<ipython-input-66-d79c24bd79e5>\u001b[0m in \u001b[0;36m<module>\u001b[0;34m()\u001b[0m\n\u001b[1;32m      9\u001b[0m   \u001b[0;32mreturn\u001b[0m \u001b[0mpf_covar_mtxs\u001b[0m\u001b[0;34m\u001b[0m\u001b[0;34m\u001b[0m\u001b[0m\n\u001b[1;32m     10\u001b[0m \u001b[0;34m\u001b[0m\u001b[0m\n\u001b[0;32m---> 11\u001b[0;31m \u001b[0mself\u001b[0m\u001b[0;34m.\u001b[0m\u001b[0mcovar_mtxs\u001b[0m\u001b[0;34m=\u001b[0m\u001b[0mget_pf_covar_mtxs\u001b[0m\u001b[0;34m(\u001b[0m\u001b[0mself\u001b[0m\u001b[0;34m)\u001b[0m\u001b[0;34m\u001b[0m\u001b[0;34m\u001b[0m\u001b[0m\n\u001b[0m\u001b[1;32m     12\u001b[0m \u001b[0;34m\u001b[0m\u001b[0m\n\u001b[1;32m     13\u001b[0m \u001b[0;32mdef\u001b[0m \u001b[0mportfolio_eigenvalue_explained_variance\u001b[0m\u001b[0;34m(\u001b[0m\u001b[0mpf_covar_mtx\u001b[0m\u001b[0;34m)\u001b[0m\u001b[0;34m:\u001b[0m\u001b[0;34m\u001b[0m\u001b[0;34m\u001b[0m\u001b[0m\n",
            "\u001b[0;31mNameError\u001b[0m: name 'self' is not defined"
          ]
        }
      ]
    },
    {
      "cell_type": "code",
      "metadata": {
        "id": "P8QQ76qeEjRB",
        "colab_type": "code",
        "colab": {
          "base_uri": "https://localhost:8080/",
          "height": 253
        },
        "outputId": "4a920b92-e545-464b-85c8-eef3dcdcd5e2"
      },
      "source": [
        "data = read_price_data(43)\n",
        "logic = {'open'  : 'first',\n",
        "         'high'  : 'max',\n",
        "         'low'   : 'min',\n",
        "         'close' : 'last',\n",
        "         'volume': 'sum',\n",
        "         'bb_live':'last'}\n",
        "\n",
        "offset = pd.offsets.timedelta(days=-6)\n",
        "\n",
        "#data = pd.read_clipboard(parse_dates=['date'], index_col=['date'])\n",
        "data = data.resample('W', loffset=offset).apply(logic)\n",
        "data.head()"
      ],
      "execution_count": 64,
      "outputs": [
        {
          "output_type": "stream",
          "text": [
            "AMZN.US Equity\n"
          ],
          "name": "stdout"
        },
        {
          "output_type": "execute_result",
          "data": {
            "text/html": [
              "<div>\n",
              "<style scoped>\n",
              "    .dataframe tbody tr th:only-of-type {\n",
              "        vertical-align: middle;\n",
              "    }\n",
              "\n",
              "    .dataframe tbody tr th {\n",
              "        vertical-align: top;\n",
              "    }\n",
              "\n",
              "    .dataframe thead th {\n",
              "        text-align: right;\n",
              "    }\n",
              "</style>\n",
              "<table border=\"1\" class=\"dataframe\">\n",
              "  <thead>\n",
              "    <tr style=\"text-align: right;\">\n",
              "      <th></th>\n",
              "      <th>open</th>\n",
              "      <th>high</th>\n",
              "      <th>low</th>\n",
              "      <th>close</th>\n",
              "      <th>volume</th>\n",
              "      <th>bb_live</th>\n",
              "    </tr>\n",
              "    <tr>\n",
              "      <th>date</th>\n",
              "      <th></th>\n",
              "      <th></th>\n",
              "      <th></th>\n",
              "      <th></th>\n",
              "      <th></th>\n",
              "      <th></th>\n",
              "    </tr>\n",
              "  </thead>\n",
              "  <tbody>\n",
              "    <tr>\n",
              "      <th>2007-01-01</th>\n",
              "      <td>1.000000</td>\n",
              "      <td>1.002048</td>\n",
              "      <td>0.988173</td>\n",
              "      <td>0.991473</td>\n",
              "      <td>25393717.0</td>\n",
              "      <td>0.991473</td>\n",
              "    </tr>\n",
              "    <tr>\n",
              "      <th>2007-01-08</th>\n",
              "      <td>1.007385</td>\n",
              "      <td>0.980799</td>\n",
              "      <td>0.974244</td>\n",
              "      <td>0.987080</td>\n",
              "      <td>29952875.0</td>\n",
              "      <td>0.987080</td>\n",
              "    </tr>\n",
              "    <tr>\n",
              "      <th>2007-01-15</th>\n",
              "      <td>1.017332</td>\n",
              "      <td>0.998464</td>\n",
              "      <td>0.961892</td>\n",
              "      <td>0.956589</td>\n",
              "      <td>25899684.0</td>\n",
              "      <td>0.956589</td>\n",
              "    </tr>\n",
              "    <tr>\n",
              "      <th>2007-01-22</th>\n",
              "      <td>1.081236</td>\n",
              "      <td>0.978751</td>\n",
              "      <td>0.954008</td>\n",
              "      <td>0.952196</td>\n",
              "      <td>29809161.0</td>\n",
              "      <td>0.952196</td>\n",
              "    </tr>\n",
              "    <tr>\n",
              "      <th>2007-01-29</th>\n",
              "      <td>1.112283</td>\n",
              "      <td>1.006144</td>\n",
              "      <td>0.960315</td>\n",
              "      <td>0.966150</td>\n",
              "      <td>71727278.0</td>\n",
              "      <td>0.966150</td>\n",
              "    </tr>\n",
              "  </tbody>\n",
              "</table>\n",
              "</div>"
            ],
            "text/plain": [
              "                open      high       low     close      volume   bb_live\n",
              "date                                                                    \n",
              "2007-01-01  1.000000  1.002048  0.988173  0.991473  25393717.0  0.991473\n",
              "2007-01-08  1.007385  0.980799  0.974244  0.987080  29952875.0  0.987080\n",
              "2007-01-15  1.017332  0.998464  0.961892  0.956589  25899684.0  0.956589\n",
              "2007-01-22  1.081236  0.978751  0.954008  0.952196  29809161.0  0.952196\n",
              "2007-01-29  1.112283  1.006144  0.960315  0.966150  71727278.0  0.966150"
            ]
          },
          "metadata": {
            "tags": []
          },
          "execution_count": 64
        }
      ]
    },
    {
      "cell_type": "code",
      "metadata": {
        "id": "zjyfde2TmE2V",
        "colab_type": "code",
        "colab": {}
      },
      "source": [
        "data = pd.read_csv('/gdrive/My Drive/UBS/S&P500/data/bb_live.csv')\n",
        "print(data.shape)\n",
        "data=data.dropna(axis = 1, thresh=2518) \n",
        "print(data.shape)\n",
        "data['date'] = pd.to_datetime(data['date'])\n",
        "data=data.set_index('date')\n",
        "data=data.pct_change()\n",
        "data=data.dropna(axis = 0) \n",
        "print(data.shape)\n",
        "data.head()"
      ],
      "execution_count": null,
      "outputs": []
    },
    {
      "cell_type": "code",
      "metadata": {
        "id": "NvokvYlQiRAN",
        "colab_type": "code",
        "colab": {}
      },
      "source": [
        "class InvestmentUniverse:\n",
        "  def __init__(self,universe):\n",
        "    self.universe = universe\n",
        "\n",
        "    self.tickers = pd.DataFrame(data=universe.columns,\n",
        "                                index=pd.RangeIndex(1,universe.T.count()[0]+1),\n",
        "                                columns=['Ticker'])\n",
        "    \n",
        "    self.dates=pd.DataFrame(data=universe.index.values,\n",
        "                            index=pd.RangeIndex(1,universe.count()[0]+1),\n",
        "                            columns=['Date'])\n",
        "    \n",
        "    self.returns=universe\n",
        "\n",
        "    self.expected_returns=pd.DataFrame(data=self.returns.mean(),\n",
        "                                       columns=['ExpectedReturns'])\n",
        "    \n",
        "    self.variances=pd.DataFrame(data=self.returns.var(),\n",
        "                                columns=['variance'])\n",
        "    \n",
        "    self.volatilities = pd.DataFrame(data=self.returns.std(),\n",
        "                                     columns=['volatility'])\n",
        "    self.correl_mtx = self.returns.corr()\n",
        "\n",
        "    self.covar_mtx = self.returns.cov()\n",
        "\n",
        "    self.covar_mtx_diag = pd.DataFrame(data=np.diag(self.returns.var()),\n",
        "                                       index=self.tickers['Ticker'].values,\n",
        "                                       columns=self.tickers['Ticker'].values)\n",
        "    \n",
        "    self.covar_mtx_offdiag = self.covar_mtx - self.covar_mtx_diag\n",
        "    \n",
        "    self.volsumprod_mtx = self.volatilities.dot(self.volatilities.T)\n",
        "\n",
        "  def get_ticker_count(self):\n",
        "    return self.tickers.count()[0]\n",
        "\n",
        "  def get_date_count(self):\n",
        "    return self.dates.count()[0]"
      ],
      "execution_count": 199,
      "outputs": []
    },
    {
      "cell_type": "code",
      "metadata": {
        "id": "seHOks1rp6fM",
        "colab_type": "code",
        "colab": {}
      },
      "source": [
        "import random\n",
        "def portfolio_generator(investment_universe, position_list, number_of_simulations):\n",
        "  blank_data_frame = pd.DataFrame()\n",
        "  row_index = investment_universe.tickers.index\n",
        "  columns = tuple(itertools.product(position_list,range(1,number_of_simulations+1)))\n",
        "  row_index_names = investment_universe.tickers\n",
        "  columns_names = ['NumOfPosn','SimID']\n",
        "  a = np.zeros(shape=(investment_universe.get_ticker_count(),number_of_simulations))\n",
        "  portfolio_generation_mtx = pd.DataFrame(data=a,index=row_index_names,columns=columns)\n",
        "  # portfolio_generation_mtx = blank_data_frame(len(row_index),\n",
        "  #                                             len(columns),\n",
        "  #                                             row_index,\n",
        "  #                                             columns,\n",
        "  #                                             row_index_names,\n",
        "  #                                             columns_names)\n",
        "  \n",
        "  for i in range(0,number_of_simulations,1):\n",
        "    pf_sample = list(random.sample(list(row_index),50))\n",
        "    for k in range(0,len(pf_sample)):\n",
        "      portfolio_generation_mtx.iloc[pf_sample[k]-1,i] = 1\n",
        "\n",
        "  portfolio_generation_mtx.index = investment_universe.tickers['Ticker']\n",
        "\n",
        "  return portfolio_generation_mtx"
      ],
      "execution_count": 263,
      "outputs": []
    },
    {
      "cell_type": "code",
      "metadata": {
        "id": "sFNYLrNAksD8",
        "colab_type": "code",
        "colab": {}
      },
      "source": [
        "class PortfolioUniverse:\n",
        "  def __init__(self,investment_universe,position_list,number_of_sims):\n",
        "    self.investment_universe = investment_universe\n",
        "    self.position_list = position_list\n",
        "    self.number_of_sims = number_of_sims\n",
        "    self.portfolio_generation_mtxs = portfolio_generator(self.investment_universe,\n",
        "                                                         self.position_list,\n",
        "                                                         self.number_of_sims)\n",
        "    \n",
        "    def get_number_of_different_positions(self):\n",
        "      return len(self.position_list)\n",
        "\n",
        "    self.number_of_different_positions = get_number_of_different_positions(self)\n",
        "\n",
        "    def get_number_of_portfolios(self):\n",
        "      return self.number_of_different_positions*self.number_of_sims\n",
        "\n",
        "    self.number_of_portfolios = get_number_of_portfolios(self)\n",
        "\n",
        "    self.weights = self.portfolio_generation_mtxs/self.portfolio_generation_mtxs.sum()\n",
        "\n",
        "    def get_pf_returns(self):\n",
        "      a = np.zeros(shape=(self.investment_universe.get_date_count(),self.number_of_portfolios))\n",
        "      pf_returns = pd.DataFrame(data=a,\n",
        "                                index=self.investment_universe.dates['Date'].values,\n",
        "                                columns=self.portfolio_generation_mtxs.columns)\n",
        "      for k in range(0,self.investment_universe.get_date_count()):\n",
        "        for i in range(0,number_of_sims):\n",
        "          #print(j,i)\n",
        "          pf_returns.iloc[k,i] = np.dot(self.weights.iloc[:,i],self.investment_universe.returns.iloc[k,:])\n",
        "      return pf_returns\n",
        "\n",
        "    self.returns = get_pf_returns(self)"
      ],
      "execution_count": 264,
      "outputs": []
    },
    {
      "cell_type": "code",
      "metadata": {
        "id": "3q-SLa32oFtN",
        "colab_type": "code",
        "colab": {
          "base_uri": "https://localhost:8080/",
          "height": 377
        },
        "outputId": "d4007c15-5715-430e-975d-ca7d2e321027"
      },
      "source": [
        "num_sims = 100\n",
        "positions_list=[50]\n",
        "universe = InvestmentUniverse(data)\n",
        "pf_universe = PortfolioUniverse(universe, positions_list, num_sims)\n",
        "pf_universe.returns.describe()"
      ],
      "execution_count": 265,
      "outputs": [
        {
          "output_type": "execute_result",
          "data": {
            "text/html": [
              "<div>\n",
              "<style scoped>\n",
              "    .dataframe tbody tr th:only-of-type {\n",
              "        vertical-align: middle;\n",
              "    }\n",
              "\n",
              "    .dataframe tbody tr th {\n",
              "        vertical-align: top;\n",
              "    }\n",
              "\n",
              "    .dataframe thead tr th {\n",
              "        text-align: left;\n",
              "    }\n",
              "</style>\n",
              "<table border=\"1\" class=\"dataframe\">\n",
              "  <thead>\n",
              "    <tr>\n",
              "      <th></th>\n",
              "      <th colspan=\"81\" halign=\"left\">50</th>\n",
              "    </tr>\n",
              "    <tr>\n",
              "      <th></th>\n",
              "      <th>1</th>\n",
              "      <th>2</th>\n",
              "      <th>3</th>\n",
              "      <th>4</th>\n",
              "      <th>5</th>\n",
              "      <th>6</th>\n",
              "      <th>7</th>\n",
              "      <th>8</th>\n",
              "      <th>9</th>\n",
              "      <th>10</th>\n",
              "      <th>11</th>\n",
              "      <th>12</th>\n",
              "      <th>13</th>\n",
              "      <th>14</th>\n",
              "      <th>15</th>\n",
              "      <th>16</th>\n",
              "      <th>17</th>\n",
              "      <th>18</th>\n",
              "      <th>19</th>\n",
              "      <th>20</th>\n",
              "      <th>21</th>\n",
              "      <th>22</th>\n",
              "      <th>23</th>\n",
              "      <th>24</th>\n",
              "      <th>25</th>\n",
              "      <th>26</th>\n",
              "      <th>27</th>\n",
              "      <th>28</th>\n",
              "      <th>29</th>\n",
              "      <th>30</th>\n",
              "      <th>31</th>\n",
              "      <th>32</th>\n",
              "      <th>33</th>\n",
              "      <th>34</th>\n",
              "      <th>35</th>\n",
              "      <th>36</th>\n",
              "      <th>37</th>\n",
              "      <th>38</th>\n",
              "      <th>39</th>\n",
              "      <th>40</th>\n",
              "      <th>...</th>\n",
              "      <th>61</th>\n",
              "      <th>62</th>\n",
              "      <th>63</th>\n",
              "      <th>64</th>\n",
              "      <th>65</th>\n",
              "      <th>66</th>\n",
              "      <th>67</th>\n",
              "      <th>68</th>\n",
              "      <th>69</th>\n",
              "      <th>70</th>\n",
              "      <th>71</th>\n",
              "      <th>72</th>\n",
              "      <th>73</th>\n",
              "      <th>74</th>\n",
              "      <th>75</th>\n",
              "      <th>76</th>\n",
              "      <th>77</th>\n",
              "      <th>78</th>\n",
              "      <th>79</th>\n",
              "      <th>80</th>\n",
              "      <th>81</th>\n",
              "      <th>82</th>\n",
              "      <th>83</th>\n",
              "      <th>84</th>\n",
              "      <th>85</th>\n",
              "      <th>86</th>\n",
              "      <th>87</th>\n",
              "      <th>88</th>\n",
              "      <th>89</th>\n",
              "      <th>90</th>\n",
              "      <th>91</th>\n",
              "      <th>92</th>\n",
              "      <th>93</th>\n",
              "      <th>94</th>\n",
              "      <th>95</th>\n",
              "      <th>96</th>\n",
              "      <th>97</th>\n",
              "      <th>98</th>\n",
              "      <th>99</th>\n",
              "      <th>100</th>\n",
              "    </tr>\n",
              "  </thead>\n",
              "  <tbody>\n",
              "    <tr>\n",
              "      <th>count</th>\n",
              "      <td>2523.000000</td>\n",
              "      <td>2523.000000</td>\n",
              "      <td>2523.000000</td>\n",
              "      <td>2523.000000</td>\n",
              "      <td>2523.000000</td>\n",
              "      <td>2523.000000</td>\n",
              "      <td>2523.000000</td>\n",
              "      <td>2523.000000</td>\n",
              "      <td>2523.000000</td>\n",
              "      <td>2523.000000</td>\n",
              "      <td>2523.000000</td>\n",
              "      <td>2523.000000</td>\n",
              "      <td>2523.000000</td>\n",
              "      <td>2523.000000</td>\n",
              "      <td>2523.000000</td>\n",
              "      <td>2523.000000</td>\n",
              "      <td>2523.000000</td>\n",
              "      <td>2523.000000</td>\n",
              "      <td>2523.000000</td>\n",
              "      <td>2523.000000</td>\n",
              "      <td>2523.000000</td>\n",
              "      <td>2523.000000</td>\n",
              "      <td>2523.000000</td>\n",
              "      <td>2523.000000</td>\n",
              "      <td>2523.000000</td>\n",
              "      <td>2523.000000</td>\n",
              "      <td>2523.000000</td>\n",
              "      <td>2523.000000</td>\n",
              "      <td>2523.000000</td>\n",
              "      <td>2523.000000</td>\n",
              "      <td>2523.000000</td>\n",
              "      <td>2523.000000</td>\n",
              "      <td>2523.000000</td>\n",
              "      <td>2523.000000</td>\n",
              "      <td>2523.000000</td>\n",
              "      <td>2523.000000</td>\n",
              "      <td>2523.000000</td>\n",
              "      <td>2523.000000</td>\n",
              "      <td>2523.000000</td>\n",
              "      <td>2523.000000</td>\n",
              "      <td>...</td>\n",
              "      <td>2523.000000</td>\n",
              "      <td>2523.000000</td>\n",
              "      <td>2523.000000</td>\n",
              "      <td>2523.000000</td>\n",
              "      <td>2523.000000</td>\n",
              "      <td>2523.000000</td>\n",
              "      <td>2523.000000</td>\n",
              "      <td>2523.000000</td>\n",
              "      <td>2523.000000</td>\n",
              "      <td>2523.000000</td>\n",
              "      <td>2523.000000</td>\n",
              "      <td>2523.000000</td>\n",
              "      <td>2523.000000</td>\n",
              "      <td>2523.000000</td>\n",
              "      <td>2523.000000</td>\n",
              "      <td>2523.000000</td>\n",
              "      <td>2523.000000</td>\n",
              "      <td>2523.000000</td>\n",
              "      <td>2523.000000</td>\n",
              "      <td>2523.000000</td>\n",
              "      <td>2523.000000</td>\n",
              "      <td>2523.000000</td>\n",
              "      <td>2523.000000</td>\n",
              "      <td>2523.000000</td>\n",
              "      <td>2523.000000</td>\n",
              "      <td>2523.000000</td>\n",
              "      <td>2523.000000</td>\n",
              "      <td>2523.000000</td>\n",
              "      <td>2523.000000</td>\n",
              "      <td>2523.000000</td>\n",
              "      <td>2523.000000</td>\n",
              "      <td>2523.000000</td>\n",
              "      <td>2523.000000</td>\n",
              "      <td>2523.000000</td>\n",
              "      <td>2523.000000</td>\n",
              "      <td>2523.000000</td>\n",
              "      <td>2523.000000</td>\n",
              "      <td>2523.000000</td>\n",
              "      <td>2523.000000</td>\n",
              "      <td>2523.000000</td>\n",
              "    </tr>\n",
              "    <tr>\n",
              "      <th>mean</th>\n",
              "      <td>0.000545</td>\n",
              "      <td>0.000581</td>\n",
              "      <td>0.000593</td>\n",
              "      <td>0.000508</td>\n",
              "      <td>0.000574</td>\n",
              "      <td>0.000512</td>\n",
              "      <td>0.000633</td>\n",
              "      <td>0.000610</td>\n",
              "      <td>0.000554</td>\n",
              "      <td>0.000558</td>\n",
              "      <td>0.000558</td>\n",
              "      <td>0.000628</td>\n",
              "      <td>0.000531</td>\n",
              "      <td>0.000592</td>\n",
              "      <td>0.000596</td>\n",
              "      <td>0.000592</td>\n",
              "      <td>0.000533</td>\n",
              "      <td>0.000488</td>\n",
              "      <td>0.000564</td>\n",
              "      <td>0.000615</td>\n",
              "      <td>0.000522</td>\n",
              "      <td>0.000556</td>\n",
              "      <td>0.000553</td>\n",
              "      <td>0.000577</td>\n",
              "      <td>0.000604</td>\n",
              "      <td>0.000612</td>\n",
              "      <td>0.000486</td>\n",
              "      <td>0.000607</td>\n",
              "      <td>0.000546</td>\n",
              "      <td>0.000535</td>\n",
              "      <td>0.000590</td>\n",
              "      <td>0.000543</td>\n",
              "      <td>0.000582</td>\n",
              "      <td>0.000588</td>\n",
              "      <td>0.000531</td>\n",
              "      <td>0.000591</td>\n",
              "      <td>0.000517</td>\n",
              "      <td>0.000613</td>\n",
              "      <td>0.000543</td>\n",
              "      <td>0.000625</td>\n",
              "      <td>...</td>\n",
              "      <td>0.000512</td>\n",
              "      <td>0.000554</td>\n",
              "      <td>0.000596</td>\n",
              "      <td>0.000546</td>\n",
              "      <td>0.000583</td>\n",
              "      <td>0.000510</td>\n",
              "      <td>0.000549</td>\n",
              "      <td>0.000551</td>\n",
              "      <td>0.000586</td>\n",
              "      <td>0.000547</td>\n",
              "      <td>0.000616</td>\n",
              "      <td>0.000513</td>\n",
              "      <td>0.000580</td>\n",
              "      <td>0.000593</td>\n",
              "      <td>0.000659</td>\n",
              "      <td>0.000584</td>\n",
              "      <td>0.000530</td>\n",
              "      <td>0.000517</td>\n",
              "      <td>0.000605</td>\n",
              "      <td>0.000578</td>\n",
              "      <td>0.000612</td>\n",
              "      <td>0.000577</td>\n",
              "      <td>0.000551</td>\n",
              "      <td>0.000589</td>\n",
              "      <td>0.000610</td>\n",
              "      <td>0.000523</td>\n",
              "      <td>0.000590</td>\n",
              "      <td>0.000593</td>\n",
              "      <td>0.000541</td>\n",
              "      <td>0.000612</td>\n",
              "      <td>0.000624</td>\n",
              "      <td>0.000572</td>\n",
              "      <td>0.000540</td>\n",
              "      <td>0.000563</td>\n",
              "      <td>0.000574</td>\n",
              "      <td>0.000583</td>\n",
              "      <td>0.000527</td>\n",
              "      <td>0.000600</td>\n",
              "      <td>0.000576</td>\n",
              "      <td>0.000637</td>\n",
              "    </tr>\n",
              "    <tr>\n",
              "      <th>std</th>\n",
              "      <td>0.016077</td>\n",
              "      <td>0.015066</td>\n",
              "      <td>0.015067</td>\n",
              "      <td>0.014901</td>\n",
              "      <td>0.014813</td>\n",
              "      <td>0.014293</td>\n",
              "      <td>0.015529</td>\n",
              "      <td>0.016907</td>\n",
              "      <td>0.015599</td>\n",
              "      <td>0.015363</td>\n",
              "      <td>0.016301</td>\n",
              "      <td>0.014049</td>\n",
              "      <td>0.015127</td>\n",
              "      <td>0.015581</td>\n",
              "      <td>0.014577</td>\n",
              "      <td>0.015618</td>\n",
              "      <td>0.016825</td>\n",
              "      <td>0.014506</td>\n",
              "      <td>0.016002</td>\n",
              "      <td>0.016291</td>\n",
              "      <td>0.015344</td>\n",
              "      <td>0.015496</td>\n",
              "      <td>0.014221</td>\n",
              "      <td>0.016852</td>\n",
              "      <td>0.014197</td>\n",
              "      <td>0.015170</td>\n",
              "      <td>0.014576</td>\n",
              "      <td>0.014907</td>\n",
              "      <td>0.013830</td>\n",
              "      <td>0.014839</td>\n",
              "      <td>0.015737</td>\n",
              "      <td>0.014728</td>\n",
              "      <td>0.015808</td>\n",
              "      <td>0.016136</td>\n",
              "      <td>0.014910</td>\n",
              "      <td>0.015018</td>\n",
              "      <td>0.015403</td>\n",
              "      <td>0.014727</td>\n",
              "      <td>0.014790</td>\n",
              "      <td>0.015258</td>\n",
              "      <td>...</td>\n",
              "      <td>0.015096</td>\n",
              "      <td>0.016377</td>\n",
              "      <td>0.016396</td>\n",
              "      <td>0.015841</td>\n",
              "      <td>0.015897</td>\n",
              "      <td>0.014874</td>\n",
              "      <td>0.016148</td>\n",
              "      <td>0.015460</td>\n",
              "      <td>0.015811</td>\n",
              "      <td>0.014424</td>\n",
              "      <td>0.015922</td>\n",
              "      <td>0.015347</td>\n",
              "      <td>0.016561</td>\n",
              "      <td>0.015392</td>\n",
              "      <td>0.016358</td>\n",
              "      <td>0.014725</td>\n",
              "      <td>0.015501</td>\n",
              "      <td>0.014618</td>\n",
              "      <td>0.015379</td>\n",
              "      <td>0.015685</td>\n",
              "      <td>0.015356</td>\n",
              "      <td>0.015949</td>\n",
              "      <td>0.015281</td>\n",
              "      <td>0.016431</td>\n",
              "      <td>0.015709</td>\n",
              "      <td>0.015709</td>\n",
              "      <td>0.015677</td>\n",
              "      <td>0.015655</td>\n",
              "      <td>0.014630</td>\n",
              "      <td>0.014278</td>\n",
              "      <td>0.015569</td>\n",
              "      <td>0.016151</td>\n",
              "      <td>0.016638</td>\n",
              "      <td>0.014701</td>\n",
              "      <td>0.015135</td>\n",
              "      <td>0.014199</td>\n",
              "      <td>0.015486</td>\n",
              "      <td>0.017069</td>\n",
              "      <td>0.014958</td>\n",
              "      <td>0.014839</td>\n",
              "    </tr>\n",
              "    <tr>\n",
              "      <th>min</th>\n",
              "      <td>-0.102337</td>\n",
              "      <td>-0.096148</td>\n",
              "      <td>-0.102547</td>\n",
              "      <td>-0.105997</td>\n",
              "      <td>-0.105596</td>\n",
              "      <td>-0.100523</td>\n",
              "      <td>-0.105274</td>\n",
              "      <td>-0.113766</td>\n",
              "      <td>-0.108936</td>\n",
              "      <td>-0.104752</td>\n",
              "      <td>-0.112660</td>\n",
              "      <td>-0.095825</td>\n",
              "      <td>-0.101365</td>\n",
              "      <td>-0.101464</td>\n",
              "      <td>-0.098928</td>\n",
              "      <td>-0.103632</td>\n",
              "      <td>-0.117505</td>\n",
              "      <td>-0.100739</td>\n",
              "      <td>-0.105075</td>\n",
              "      <td>-0.114812</td>\n",
              "      <td>-0.109878</td>\n",
              "      <td>-0.099314</td>\n",
              "      <td>-0.097144</td>\n",
              "      <td>-0.117628</td>\n",
              "      <td>-0.101287</td>\n",
              "      <td>-0.107065</td>\n",
              "      <td>-0.100524</td>\n",
              "      <td>-0.104771</td>\n",
              "      <td>-0.090098</td>\n",
              "      <td>-0.105090</td>\n",
              "      <td>-0.102093</td>\n",
              "      <td>-0.097789</td>\n",
              "      <td>-0.112138</td>\n",
              "      <td>-0.106014</td>\n",
              "      <td>-0.103862</td>\n",
              "      <td>-0.102610</td>\n",
              "      <td>-0.102545</td>\n",
              "      <td>-0.100626</td>\n",
              "      <td>-0.103646</td>\n",
              "      <td>-0.108397</td>\n",
              "      <td>...</td>\n",
              "      <td>-0.097225</td>\n",
              "      <td>-0.110512</td>\n",
              "      <td>-0.125456</td>\n",
              "      <td>-0.106118</td>\n",
              "      <td>-0.105590</td>\n",
              "      <td>-0.104022</td>\n",
              "      <td>-0.117997</td>\n",
              "      <td>-0.119006</td>\n",
              "      <td>-0.108742</td>\n",
              "      <td>-0.095693</td>\n",
              "      <td>-0.109888</td>\n",
              "      <td>-0.109832</td>\n",
              "      <td>-0.108842</td>\n",
              "      <td>-0.109846</td>\n",
              "      <td>-0.103279</td>\n",
              "      <td>-0.101892</td>\n",
              "      <td>-0.106366</td>\n",
              "      <td>-0.102489</td>\n",
              "      <td>-0.108605</td>\n",
              "      <td>-0.107581</td>\n",
              "      <td>-0.101617</td>\n",
              "      <td>-0.110595</td>\n",
              "      <td>-0.103073</td>\n",
              "      <td>-0.112736</td>\n",
              "      <td>-0.111366</td>\n",
              "      <td>-0.112231</td>\n",
              "      <td>-0.107182</td>\n",
              "      <td>-0.112099</td>\n",
              "      <td>-0.099606</td>\n",
              "      <td>-0.102794</td>\n",
              "      <td>-0.103728</td>\n",
              "      <td>-0.109858</td>\n",
              "      <td>-0.111683</td>\n",
              "      <td>-0.099885</td>\n",
              "      <td>-0.107863</td>\n",
              "      <td>-0.096389</td>\n",
              "      <td>-0.107390</td>\n",
              "      <td>-0.115724</td>\n",
              "      <td>-0.105326</td>\n",
              "      <td>-0.100465</td>\n",
              "    </tr>\n",
              "    <tr>\n",
              "      <th>25%</th>\n",
              "      <td>-0.006068</td>\n",
              "      <td>-0.005782</td>\n",
              "      <td>-0.005383</td>\n",
              "      <td>-0.005417</td>\n",
              "      <td>-0.005418</td>\n",
              "      <td>-0.004960</td>\n",
              "      <td>-0.005481</td>\n",
              "      <td>-0.006166</td>\n",
              "      <td>-0.005734</td>\n",
              "      <td>-0.005692</td>\n",
              "      <td>-0.006072</td>\n",
              "      <td>-0.004959</td>\n",
              "      <td>-0.005482</td>\n",
              "      <td>-0.005404</td>\n",
              "      <td>-0.005343</td>\n",
              "      <td>-0.005982</td>\n",
              "      <td>-0.006156</td>\n",
              "      <td>-0.005244</td>\n",
              "      <td>-0.005960</td>\n",
              "      <td>-0.005798</td>\n",
              "      <td>-0.005626</td>\n",
              "      <td>-0.005771</td>\n",
              "      <td>-0.005200</td>\n",
              "      <td>-0.006024</td>\n",
              "      <td>-0.005395</td>\n",
              "      <td>-0.005475</td>\n",
              "      <td>-0.005299</td>\n",
              "      <td>-0.005355</td>\n",
              "      <td>-0.004958</td>\n",
              "      <td>-0.005358</td>\n",
              "      <td>-0.005853</td>\n",
              "      <td>-0.005314</td>\n",
              "      <td>-0.005503</td>\n",
              "      <td>-0.005641</td>\n",
              "      <td>-0.005451</td>\n",
              "      <td>-0.005384</td>\n",
              "      <td>-0.005473</td>\n",
              "      <td>-0.005149</td>\n",
              "      <td>-0.005126</td>\n",
              "      <td>-0.005259</td>\n",
              "      <td>...</td>\n",
              "      <td>-0.005651</td>\n",
              "      <td>-0.005949</td>\n",
              "      <td>-0.005674</td>\n",
              "      <td>-0.005937</td>\n",
              "      <td>-0.005878</td>\n",
              "      <td>-0.005361</td>\n",
              "      <td>-0.005896</td>\n",
              "      <td>-0.005553</td>\n",
              "      <td>-0.005842</td>\n",
              "      <td>-0.005389</td>\n",
              "      <td>-0.005467</td>\n",
              "      <td>-0.005767</td>\n",
              "      <td>-0.006471</td>\n",
              "      <td>-0.005669</td>\n",
              "      <td>-0.005579</td>\n",
              "      <td>-0.005422</td>\n",
              "      <td>-0.005809</td>\n",
              "      <td>-0.005204</td>\n",
              "      <td>-0.005017</td>\n",
              "      <td>-0.005911</td>\n",
              "      <td>-0.005824</td>\n",
              "      <td>-0.005971</td>\n",
              "      <td>-0.005373</td>\n",
              "      <td>-0.005722</td>\n",
              "      <td>-0.005821</td>\n",
              "      <td>-0.006145</td>\n",
              "      <td>-0.005466</td>\n",
              "      <td>-0.005524</td>\n",
              "      <td>-0.005370</td>\n",
              "      <td>-0.005050</td>\n",
              "      <td>-0.005676</td>\n",
              "      <td>-0.005739</td>\n",
              "      <td>-0.006231</td>\n",
              "      <td>-0.005394</td>\n",
              "      <td>-0.005206</td>\n",
              "      <td>-0.004945</td>\n",
              "      <td>-0.005668</td>\n",
              "      <td>-0.006369</td>\n",
              "      <td>-0.005442</td>\n",
              "      <td>-0.005676</td>\n",
              "    </tr>\n",
              "    <tr>\n",
              "      <th>50%</th>\n",
              "      <td>0.000920</td>\n",
              "      <td>0.000928</td>\n",
              "      <td>0.001061</td>\n",
              "      <td>0.000955</td>\n",
              "      <td>0.000872</td>\n",
              "      <td>0.000902</td>\n",
              "      <td>0.001101</td>\n",
              "      <td>0.001131</td>\n",
              "      <td>0.000981</td>\n",
              "      <td>0.001012</td>\n",
              "      <td>0.000948</td>\n",
              "      <td>0.001018</td>\n",
              "      <td>0.001018</td>\n",
              "      <td>0.001078</td>\n",
              "      <td>0.001008</td>\n",
              "      <td>0.001268</td>\n",
              "      <td>0.000894</td>\n",
              "      <td>0.000832</td>\n",
              "      <td>0.001098</td>\n",
              "      <td>0.001096</td>\n",
              "      <td>0.000944</td>\n",
              "      <td>0.000930</td>\n",
              "      <td>0.000986</td>\n",
              "      <td>0.001047</td>\n",
              "      <td>0.001081</td>\n",
              "      <td>0.001050</td>\n",
              "      <td>0.000954</td>\n",
              "      <td>0.001035</td>\n",
              "      <td>0.000974</td>\n",
              "      <td>0.001020</td>\n",
              "      <td>0.001240</td>\n",
              "      <td>0.000923</td>\n",
              "      <td>0.001018</td>\n",
              "      <td>0.001118</td>\n",
              "      <td>0.000895</td>\n",
              "      <td>0.000872</td>\n",
              "      <td>0.001022</td>\n",
              "      <td>0.000979</td>\n",
              "      <td>0.000973</td>\n",
              "      <td>0.001091</td>\n",
              "      <td>...</td>\n",
              "      <td>0.000804</td>\n",
              "      <td>0.000911</td>\n",
              "      <td>0.000982</td>\n",
              "      <td>0.000960</td>\n",
              "      <td>0.001067</td>\n",
              "      <td>0.001019</td>\n",
              "      <td>0.001039</td>\n",
              "      <td>0.001116</td>\n",
              "      <td>0.001290</td>\n",
              "      <td>0.001137</td>\n",
              "      <td>0.000840</td>\n",
              "      <td>0.000983</td>\n",
              "      <td>0.001061</td>\n",
              "      <td>0.001082</td>\n",
              "      <td>0.001210</td>\n",
              "      <td>0.001129</td>\n",
              "      <td>0.000939</td>\n",
              "      <td>0.001037</td>\n",
              "      <td>0.001083</td>\n",
              "      <td>0.000904</td>\n",
              "      <td>0.000963</td>\n",
              "      <td>0.000882</td>\n",
              "      <td>0.001039</td>\n",
              "      <td>0.001037</td>\n",
              "      <td>0.001027</td>\n",
              "      <td>0.001053</td>\n",
              "      <td>0.001025</td>\n",
              "      <td>0.001111</td>\n",
              "      <td>0.000956</td>\n",
              "      <td>0.001046</td>\n",
              "      <td>0.001088</td>\n",
              "      <td>0.001008</td>\n",
              "      <td>0.000989</td>\n",
              "      <td>0.000853</td>\n",
              "      <td>0.000906</td>\n",
              "      <td>0.001061</td>\n",
              "      <td>0.000903</td>\n",
              "      <td>0.001018</td>\n",
              "      <td>0.001050</td>\n",
              "      <td>0.001119</td>\n",
              "    </tr>\n",
              "    <tr>\n",
              "      <th>75%</th>\n",
              "      <td>0.007820</td>\n",
              "      <td>0.007216</td>\n",
              "      <td>0.007172</td>\n",
              "      <td>0.007014</td>\n",
              "      <td>0.007226</td>\n",
              "      <td>0.006594</td>\n",
              "      <td>0.007640</td>\n",
              "      <td>0.007765</td>\n",
              "      <td>0.007254</td>\n",
              "      <td>0.007609</td>\n",
              "      <td>0.007568</td>\n",
              "      <td>0.006746</td>\n",
              "      <td>0.007398</td>\n",
              "      <td>0.007107</td>\n",
              "      <td>0.007018</td>\n",
              "      <td>0.007511</td>\n",
              "      <td>0.007802</td>\n",
              "      <td>0.007017</td>\n",
              "      <td>0.007701</td>\n",
              "      <td>0.007490</td>\n",
              "      <td>0.007337</td>\n",
              "      <td>0.007402</td>\n",
              "      <td>0.007073</td>\n",
              "      <td>0.007687</td>\n",
              "      <td>0.006847</td>\n",
              "      <td>0.007415</td>\n",
              "      <td>0.007026</td>\n",
              "      <td>0.007243</td>\n",
              "      <td>0.006815</td>\n",
              "      <td>0.007203</td>\n",
              "      <td>0.007844</td>\n",
              "      <td>0.006920</td>\n",
              "      <td>0.007079</td>\n",
              "      <td>0.007374</td>\n",
              "      <td>0.007250</td>\n",
              "      <td>0.007082</td>\n",
              "      <td>0.007196</td>\n",
              "      <td>0.007108</td>\n",
              "      <td>0.006806</td>\n",
              "      <td>0.007137</td>\n",
              "      <td>...</td>\n",
              "      <td>0.007210</td>\n",
              "      <td>0.007583</td>\n",
              "      <td>0.007470</td>\n",
              "      <td>0.007466</td>\n",
              "      <td>0.007630</td>\n",
              "      <td>0.006874</td>\n",
              "      <td>0.007446</td>\n",
              "      <td>0.006837</td>\n",
              "      <td>0.007521</td>\n",
              "      <td>0.007013</td>\n",
              "      <td>0.007479</td>\n",
              "      <td>0.007567</td>\n",
              "      <td>0.008461</td>\n",
              "      <td>0.007179</td>\n",
              "      <td>0.007356</td>\n",
              "      <td>0.007154</td>\n",
              "      <td>0.007100</td>\n",
              "      <td>0.007019</td>\n",
              "      <td>0.007099</td>\n",
              "      <td>0.007643</td>\n",
              "      <td>0.007636</td>\n",
              "      <td>0.007943</td>\n",
              "      <td>0.007106</td>\n",
              "      <td>0.007595</td>\n",
              "      <td>0.007400</td>\n",
              "      <td>0.007388</td>\n",
              "      <td>0.007391</td>\n",
              "      <td>0.007348</td>\n",
              "      <td>0.006963</td>\n",
              "      <td>0.006993</td>\n",
              "      <td>0.007558</td>\n",
              "      <td>0.007744</td>\n",
              "      <td>0.007969</td>\n",
              "      <td>0.006982</td>\n",
              "      <td>0.007290</td>\n",
              "      <td>0.006651</td>\n",
              "      <td>0.007057</td>\n",
              "      <td>0.008250</td>\n",
              "      <td>0.007089</td>\n",
              "      <td>0.007532</td>\n",
              "    </tr>\n",
              "    <tr>\n",
              "      <th>max</th>\n",
              "      <td>0.123740</td>\n",
              "      <td>0.121178</td>\n",
              "      <td>0.107868</td>\n",
              "      <td>0.116716</td>\n",
              "      <td>0.107441</td>\n",
              "      <td>0.119050</td>\n",
              "      <td>0.135408</td>\n",
              "      <td>0.128007</td>\n",
              "      <td>0.120928</td>\n",
              "      <td>0.117110</td>\n",
              "      <td>0.115826</td>\n",
              "      <td>0.105715</td>\n",
              "      <td>0.114654</td>\n",
              "      <td>0.148224</td>\n",
              "      <td>0.114491</td>\n",
              "      <td>0.133390</td>\n",
              "      <td>0.111905</td>\n",
              "      <td>0.113596</td>\n",
              "      <td>0.111821</td>\n",
              "      <td>0.112568</td>\n",
              "      <td>0.113764</td>\n",
              "      <td>0.127452</td>\n",
              "      <td>0.115941</td>\n",
              "      <td>0.134161</td>\n",
              "      <td>0.106999</td>\n",
              "      <td>0.110413</td>\n",
              "      <td>0.133009</td>\n",
              "      <td>0.130550</td>\n",
              "      <td>0.107703</td>\n",
              "      <td>0.110526</td>\n",
              "      <td>0.123559</td>\n",
              "      <td>0.130093</td>\n",
              "      <td>0.116689</td>\n",
              "      <td>0.122301</td>\n",
              "      <td>0.116225</td>\n",
              "      <td>0.111114</td>\n",
              "      <td>0.115509</td>\n",
              "      <td>0.135669</td>\n",
              "      <td>0.116088</td>\n",
              "      <td>0.120279</td>\n",
              "      <td>...</td>\n",
              "      <td>0.108732</td>\n",
              "      <td>0.125451</td>\n",
              "      <td>0.119730</td>\n",
              "      <td>0.113388</td>\n",
              "      <td>0.106621</td>\n",
              "      <td>0.111754</td>\n",
              "      <td>0.129358</td>\n",
              "      <td>0.133065</td>\n",
              "      <td>0.110237</td>\n",
              "      <td>0.120597</td>\n",
              "      <td>0.122914</td>\n",
              "      <td>0.128086</td>\n",
              "      <td>0.125864</td>\n",
              "      <td>0.128901</td>\n",
              "      <td>0.131438</td>\n",
              "      <td>0.113638</td>\n",
              "      <td>0.125716</td>\n",
              "      <td>0.116910</td>\n",
              "      <td>0.112846</td>\n",
              "      <td>0.121067</td>\n",
              "      <td>0.106689</td>\n",
              "      <td>0.126711</td>\n",
              "      <td>0.138463</td>\n",
              "      <td>0.119474</td>\n",
              "      <td>0.135766</td>\n",
              "      <td>0.101085</td>\n",
              "      <td>0.117320</td>\n",
              "      <td>0.128795</td>\n",
              "      <td>0.124006</td>\n",
              "      <td>0.112194</td>\n",
              "      <td>0.123885</td>\n",
              "      <td>0.120470</td>\n",
              "      <td>0.122477</td>\n",
              "      <td>0.114672</td>\n",
              "      <td>0.128969</td>\n",
              "      <td>0.101972</td>\n",
              "      <td>0.108415</td>\n",
              "      <td>0.138450</td>\n",
              "      <td>0.107031</td>\n",
              "      <td>0.108256</td>\n",
              "    </tr>\n",
              "  </tbody>\n",
              "</table>\n",
              "<p>8 rows × 100 columns</p>\n",
              "</div>"
            ],
            "text/plain": [
              "                50               ...                          \n",
              "               1            2    ...          99           100\n",
              "count  2523.000000  2523.000000  ...  2523.000000  2523.000000\n",
              "mean      0.000545     0.000581  ...     0.000576     0.000637\n",
              "std       0.016077     0.015066  ...     0.014958     0.014839\n",
              "min      -0.102337    -0.096148  ...    -0.105326    -0.100465\n",
              "25%      -0.006068    -0.005782  ...    -0.005442    -0.005676\n",
              "50%       0.000920     0.000928  ...     0.001050     0.001119\n",
              "75%       0.007820     0.007216  ...     0.007089     0.007532\n",
              "max       0.123740     0.121178  ...     0.107031     0.108256\n",
              "\n",
              "[8 rows x 100 columns]"
            ]
          },
          "metadata": {
            "tags": []
          },
          "execution_count": 265
        }
      ]
    },
    {
      "cell_type": "code",
      "metadata": {
        "id": "gSaxOozpSi47",
        "colab_type": "code",
        "colab": {}
      },
      "source": [
        "def read_price_data(idx):\n",
        "  open = pd.read_csv('/gdrive/My Drive/UBS/S&P500/data/open_price.csv')\n",
        "  close = pd.read_csv('/gdrive/My Drive/UBS/S&P500/data/close_price.csv')\n",
        "  high = pd.read_csv('/gdrive/My Drive/UBS/S&P500/data/high_price.csv')\n",
        "  low = pd.read_csv('/gdrive/My Drive/UBS/S&P500/data/low_price.csv')\n",
        "  bb_live = pd.read_csv('/gdrive/My Drive/UBS/S&P500/data/bb_live.csv')\n",
        "  volume = pd.read_csv('/gdrive/My Drive/UBS/S&P500/data/volume.csv')\n",
        "  print(close.columns[idx])\n",
        "\n",
        "  open=open.iloc[:,[0,idx]]\n",
        "  close=close.iloc[:,[0,idx]]\n",
        "  high=high.iloc[:,[0,idx]]\n",
        "  low=low.iloc[:,[0,idx]]\n",
        "  bb_live=bb_live.iloc[:,[0,idx]]\n",
        "  volume=volume.iloc[:,[0,idx]]\n",
        "\n",
        "  open['date'] = pd.to_datetime(open['date'])\n",
        "  open=open.set_index('date')\n",
        "\n",
        "  close['date'] = pd.to_datetime(close['date'])\n",
        "  close=close.set_index('date')\n",
        "\n",
        "  high['date'] = pd.to_datetime(high['date'])\n",
        "  high=high.set_index('date')\n",
        "\n",
        "  low['date'] = pd.to_datetime(low['date'])  \n",
        "  low=low.set_index('date')\n",
        "\n",
        "  bb_live['date'] = pd.to_datetime(bb_live['date'])\n",
        "  bb_live=bb_live.set_index('date')\n",
        "\n",
        "  volume['date'] = pd.to_datetime(volume['date'])\n",
        "  volume=volume.set_index('date')\n",
        "\n",
        "  result = pd.concat([open,high,low,close,volume,bb_live], axis=1).reindex(open.index)\n",
        "  result.columns = ['open','high','low','close','volume','bb_live']\n",
        "\n",
        "  result['open'] =result['open'].apply(lambda x: x/result.open[0])\n",
        "  result['close'] =result['close'].apply(lambda x: x/result.close[0])\n",
        "  result['high'] =result['high'].apply(lambda x: x/result.high[0])\n",
        "  result['low'] =result['low'].apply(lambda x: x/result.low[0])\n",
        "  result['bb_live'] =result['bb_live'].apply(lambda x: x/result.bb_live[0])\n",
        "  result['volume'] =result['volume'].apply(lambda x: x/result.volume[0])\n",
        "\n",
        "  return result\n",
        "\n",
        "def data_load(idx):\n",
        "  prices = read_price_data(idx)\n",
        "  tech_ind = add_all_ta_features(prices, open=\"open\", high=\"high\", low=\"low\", close=\"close\", volume=\"volume\")\n",
        "  secondary_index_data = pd.read_csv('/gdrive/My Drive/UBS/S&P500/data/secondary_data.csv')\n",
        "  secondary_index_data=secondary_index_data.set_index('date')\n",
        "\n",
        "  ind=pd.concat([tech_ind, secondary_index_data], axis=1).reindex(tech_ind.index)\n",
        "  #ind=tech_ind\n",
        "  ind=ind.dropna(axis=1,how='all',thresh=2000)\n",
        "  ind=ind.dropna(axis=0)\n",
        "\n",
        "  #equity=sp500_hist_data.iloc[:,[0,idx]]\n",
        "  #missing_values = set(ind.iloc[:, 0]).symmetric_difference(set(equity.iloc[:, 0]))\n",
        "  #missing_values=list(missing_values)\n",
        "  #print(len(missing_values))\n",
        "  #ind = ind[~ind['date'].isin(missing_values)]\n",
        "  #equity = equity[~equity['date'].isin(missing_values)]\n",
        "  X=ind.iloc[:,6:]\n",
        "  y=ind.iloc[:,3]\n",
        "  return X, y\n",
        "\n",
        "def input_data(trainx,trainy,index):\n",
        "  trainx=trainx.to_numpy()\n",
        "  trainy=trainy.to_numpy()\n",
        "  trainX, trainY = trainx[:index,:], trainy[:index]\n",
        "  validX, validY = trainx[index:,:], trainy[index:]\n",
        "  scaler = StandardScaler()\n",
        "  trainX=scaler.fit_transform(trainX)\n",
        "  validX=scaler.transform(validX)\n",
        "  return trainX, trainY, validX, validY\n",
        "\n",
        "def remove_features(trainX,trainY):\n",
        "  corr_matrix=[]\n",
        "  for idx in range(0,trainX.shape[1]): \n",
        "    corr=np.corrcoef(trainX.iloc[:,idx].to_numpy(),trainY.to_numpy())\n",
        "    corr_matrix.append(corr[0,1]*100)\n",
        "    idx_list=[]\n",
        "  for i,val in enumerate(corr_matrix):\n",
        "    if (val<=5 and val>=-5):\n",
        "      idx_list.append(i)\n",
        "    #elif (val>=98):\n",
        "    #  idx_list.append(i)\n",
        "  trainX=trainX.drop(columns=trainX.columns[idx_list])\n",
        "  return trainX,trainY, corr_matrix\n",
        "\n",
        "def sp500_returns():\n",
        "  close = pd.read_csv('/gdrive/My Drive/UBS/S&P500/data/close_price.csv')\n",
        "  close = close.set_index('date')\n",
        "  #close = close.fillna(0)\n",
        "  close = close.pct_change()[1:]\n",
        "  #close = close.sort_values(by=list(close.columns),axis=0)\n",
        "  return close    "
      ],
      "execution_count": 7,
      "outputs": []
    },
    {
      "cell_type": "code",
      "metadata": {
        "id": "dBwrQoUvbIY9",
        "colab_type": "code",
        "colab": {
          "base_uri": "https://localhost:8080/",
          "height": 802
        },
        "outputId": "5632a214-40f8-4d6d-f567-16101dae5b61"
      },
      "source": [
        "import seaborn as sns\n",
        "# Step 0 - Read the dataset, calculate column correlations and make a seaborn heatmap\n",
        "fig, ax1 = plt.subplots(figsize=(14, 14))\n",
        "data = pd.read_csv('/gdrive/My Drive/UBS/S&P500/data/secondary_data.csv')\n",
        "data = data.set_index('date')\n",
        "corr = data.corr()\n",
        "ax = sns.heatmap(\n",
        "    corr, \n",
        "    vmin=-1, vmax=1, center=0,\n",
        "    cmap=sns.diverging_palette(20, 220, n=200),\n",
        "    square=True,\n",
        "    linewidth=2,annot=True\n",
        ")\n",
        "ax.set_xticklabels(\n",
        "    ax.get_xticklabels(),\n",
        "    rotation=45,\n",
        "    horizontalalignment='right'\n",
        ");"
      ],
      "execution_count": 16,
      "outputs": [
        {
          "output_type": "display_data",
          "data": {
            "image/png": "[encoded data removed]",
            "text/plain": [
              "<Figure size 1008x1008 with 2 Axes>"
            ]
          },
          "metadata": {
            "tags": [],
            "needs_background": "light"
          }
        }
      ]
    },
    {
      "cell_type": "markdown",
      "metadata": {
        "id": "RyInEtwpzDgp",
        "colab_type": "text"
      },
      "source": [
        "# **Diversification**"
      ]
    },
    {
      "cell_type": "code",
      "metadata": {
        "id": "3sUMsoV8n0bs",
        "colab_type": "code",
        "colab": {
          "base_uri": "https://localhost:8080/",
          "height": 204
        },
        "outputId": "14560938-b16b-4ca0-dcaf-94de52f195ca"
      },
      "source": [
        "sp500_companies = pd.read_csv('/gdrive/My Drive/UBS/S&P500/data/company_data.csv')\n",
        "sp500_companies.tail()"
      ],
      "execution_count": null,
      "outputs": [
        {
          "output_type": "execute_result",
          "data": {
            "text/html": [
              "<div>\n",
              "<style scoped>\n",
              "    .dataframe tbody tr th:only-of-type {\n",
              "        vertical-align: middle;\n",
              "    }\n",
              "\n",
              "    .dataframe tbody tr th {\n",
              "        vertical-align: top;\n",
              "    }\n",
              "\n",
              "    .dataframe thead th {\n",
              "        text-align: right;\n",
              "    }\n",
              "</style>\n",
              "<table border=\"1\" class=\"dataframe\">\n",
              "  <thead>\n",
              "    <tr style=\"text-align: right;\">\n",
              "      <th></th>\n",
              "      <th>tablerownames</th>\n",
              "      <th>ticker</th>\n",
              "      <th>company</th>\n",
              "      <th>constituentStart</th>\n",
              "      <th>constituentEnd</th>\n",
              "      <th>industryCode</th>\n",
              "      <th>industry</th>\n",
              "    </tr>\n",
              "  </thead>\n",
              "  <tbody>\n",
              "    <tr>\n",
              "      <th>674</th>\n",
              "      <td>679</td>\n",
              "      <td>YHOO.US Equity</td>\n",
              "      <td>Yahoo! Inc</td>\n",
              "      <td>1999-12-07</td>\n",
              "      <td>2017-06-16</td>\n",
              "      <td>451010</td>\n",
              "      <td>Internet Software &amp; Services</td>\n",
              "    </tr>\n",
              "    <tr>\n",
              "      <th>675</th>\n",
              "      <td>680</td>\n",
              "      <td>YUM.US Equity</td>\n",
              "      <td>Yum! Brands Inc.</td>\n",
              "      <td>1997-10-06</td>\n",
              "      <td>NaN</td>\n",
              "      <td>253010</td>\n",
              "      <td>Hotels, Restaurants &amp; Leisure</td>\n",
              "    </tr>\n",
              "    <tr>\n",
              "      <th>676</th>\n",
              "      <td>681</td>\n",
              "      <td>ZBH.US Equity</td>\n",
              "      <td>Zimmer Biomet Holdings Inc</td>\n",
              "      <td>2001-08-06</td>\n",
              "      <td>NaN</td>\n",
              "      <td>351010</td>\n",
              "      <td>Health Care Equipment &amp; Supplies</td>\n",
              "    </tr>\n",
              "    <tr>\n",
              "      <th>677</th>\n",
              "      <td>682</td>\n",
              "      <td>ZION.US Equity</td>\n",
              "      <td>Zions Bancorp</td>\n",
              "      <td>2001-06-22</td>\n",
              "      <td>NaN</td>\n",
              "      <td>401010</td>\n",
              "      <td>Commercial Banks</td>\n",
              "    </tr>\n",
              "    <tr>\n",
              "      <th>678</th>\n",
              "      <td>683</td>\n",
              "      <td>ZTS.US Equity</td>\n",
              "      <td>Zoetis Inc</td>\n",
              "      <td>2013-06-21</td>\n",
              "      <td>NaN</td>\n",
              "      <td>352020</td>\n",
              "      <td>Pharmaceuticals</td>\n",
              "    </tr>\n",
              "  </tbody>\n",
              "</table>\n",
              "</div>"
            ],
            "text/plain": [
              "     tablerownames  ...                          industry\n",
              "674            679  ...      Internet Software & Services\n",
              "675            680  ...     Hotels, Restaurants & Leisure\n",
              "676            681  ...  Health Care Equipment & Supplies\n",
              "677            682  ...                  Commercial Banks\n",
              "678            683  ...                   Pharmaceuticals\n",
              "\n",
              "[5 rows x 7 columns]"
            ]
          },
          "metadata": {
            "tags": []
          },
          "execution_count": 88
        }
      ]
    },
    {
      "cell_type": "code",
      "metadata": {
        "id": "e08qJInY6Yux",
        "colab_type": "code",
        "colab": {}
      },
      "source": [
        "sp500_companies['company'].unique()"
      ],
      "execution_count": null,
      "outputs": []
    },
    {
      "cell_type": "code",
      "metadata": {
        "id": "nlwXAaBhn6FM",
        "colab_type": "code",
        "colab": {
          "base_uri": "https://localhost:8080/",
          "height": 575
        },
        "outputId": "30506485-b602-465c-8add-1a23d983dda0"
      },
      "source": [
        "print(sp500_companies['industry'].value_counts(normalize=True)[:30]*50)"
      ],
      "execution_count": null,
      "outputs": [
        {
          "output_type": "stream",
          "text": [
            "Oil, Gas & Consumable Fuels                       2.724595\n",
            "Equity Real Estate Investment Trusts (REITs)      2.430044\n",
            "Health Care Providers & Services                  1.988218\n",
            "Insurance                                         1.840943\n",
            "Specialty Retail                                  1.840943\n",
            "Health Care Equipment & Supplies                  1.767305\n",
            "Capital Markets                                   1.767305\n",
            "Commercial Banks                                  1.620029\n",
            "Machinery                                         1.546392\n",
            "IT Services                                       1.546392\n",
            "Semiconductors & Semiconductor Equipment          1.546392\n",
            "Media                                             1.472754\n",
            "Energy Equipment & Services                       1.472754\n",
            "Chemicals                                         1.399116\n",
            "Food Products                                     1.178203\n",
            "Pharmaceuticals                                   1.178203\n",
            "Multi-Utilities                                   1.178203\n",
            "Electric Utilities                                1.104566\n",
            "Textiles, Apparel & Luxury Goods                  0.957290\n",
            "Hotels, Restaurants & Leisure                     0.957290\n",
            "Software                                          0.957290\n",
            "Aerospace & Defense                               0.957290\n",
            "Household Durables                                0.883652\n",
            "Computers & Peripherals                           0.883652\n",
            "Electronic Equipment, Instruments & Components    0.883652\n",
            "Multiline Retail                                  0.810015\n",
            "Biotechnology                                     0.810015\n",
            "Containers & Packaging                            0.662739\n",
            "Food & Staples Retailing                          0.589102\n",
            "Electrical Equipment                              0.589102\n",
            "Name: industry, dtype: float64\n"
          ],
          "name": "stdout"
        }
      ]
    },
    {
      "cell_type": "markdown",
      "metadata": {
        "id": "IgO240zwX_SQ",
        "colab_type": "text"
      },
      "source": [
        "An Equal weighted portfolio with 10 stocks, rebalanced each day with that days 10 highest returns generating stocks."
      ]
    },
    {
      "cell_type": "code",
      "metadata": {
        "id": "IFmPsUNxuuer",
        "colab_type": "code",
        "colab": {}
      },
      "source": [
        "secondary_index_data = pd.read_csv('/gdrive/My Drive/UBS/S&P500/data/secondary_data.csv')\n",
        "secondary_index_data = secondary_index_data['SPX Index']\n",
        "secondary_index_data=secondary_index_data.pct_change()\n",
        "return_matrix = sp500_returns()\n",
        "n_stocks=20\n",
        "weights=[1/n_stocks]*n_stocks\n",
        "cum_return=[]\n",
        "for day in range(0, return_matrix.shape[0]):\n",
        "  day_return=[]\n",
        "  for comp in range(0, return_matrix.shape[1]):\n",
        "    day_return.append(return_matrix.iloc[day,comp])\n",
        "  day_return = [x for x in day_return if (str(x) != 'nan' and x<1)]\n",
        "  day_return.sort(reverse=True)\n",
        "  day_return=day_return[:n_stocks]\n",
        "  res_list = [weights[i] * day_return[i] for i in range(len(day_return))]\n",
        "  cum_return.append(sum(res_list))\n",
        "\n",
        "matplotlib.style.use('ggplot')\n",
        "fig, ax1 = plt.subplots(figsize=(16, 9))\n",
        "ax2 = ax1.twinx()\n",
        "ax1.plot(cum_return,color='red')\n",
        "ax1.plot(secondary_index_data,color='blue',alpha=0.5)\n",
        "ax1.legend(['Equal Weighted Portfolio Returns', 'S&P500 Index Returns'])  "
      ],
      "execution_count": null,
      "outputs": []
    },
    {
      "cell_type": "code",
      "metadata": {
        "id": "l-NyeT1cXFwt",
        "colab_type": "code",
        "colab": {}
      },
      "source": [
        "sp500_hist_data = pd.read_csv('/gdrive/My Drive/UBS/S&P500/data/close_price.csv')\n",
        "sp500_companies = pd.read_csv('/gdrive/My Drive/UBS/S&P500/data/company_data.csv')\n",
        "secondary_index_data = pd.read_csv('/gdrive/My Drive/UBS/S&P500/data/secondary_data.csv')"
      ],
      "execution_count": null,
      "outputs": []
    },
    {
      "cell_type": "markdown",
      "metadata": {
        "id": "-Ac_EJ0Enk3k",
        "colab_type": "text"
      },
      "source": [
        "### **Support Vector Regression**"
      ]
    },
    {
      "cell_type": "code",
      "metadata": {
        "id": "9Xw4_cWXUO1a",
        "colab_type": "code",
        "colab": {
          "base_uri": "https://localhost:8080/",
          "height": 53
        },
        "outputId": "feea4219-5587-4f7b-8504-fdb11ac845b3"
      },
      "source": [
        "tuned_parameters = [{'kernel': ['poly'], 'gamma': ['auto'],\n",
        "                     'C': [1, 10, 100, 1000], 'degree':[1,2],'epsilon':[0.1],\n",
        "                    'coef0':[1,2,3,4,5,6,7,8,9,10]}]\n",
        "#svr_rbf = SVR(kernel='rbf', C=100, gamma=0.1, epsilon=.1)\n",
        "\n",
        "score=['mean_squared_error']\n",
        "ind, equity = data_load(300)\n",
        "days=100\n",
        "ind,equity,corr=remove_features(ind,equity)\n",
        "trainX, trainY, validX, validY = input_data(ind,equity,days)\n",
        "print(trainX.shape, trainY.shape, validX.shape, validY.shape)\n",
        "\n",
        "model = GridSearchCV(\n",
        "        SVR(), tuned_parameters\n",
        "    )\n",
        "model.fit(trainX, trainY)\n",
        "#model = svr_poly.fit(trainX, trainY)\n",
        "print(model.score(validX[:-1],validY[1:]))"
      ],
      "execution_count": null,
      "outputs": [
        {
          "output_type": "stream",
          "text": [
            "(100, 70) (100,) (1775, 70) (1775,)\n",
            "0.8951552030297335\n"
          ],
          "name": "stdout"
        }
      ]
    },
    {
      "cell_type": "code",
      "metadata": {
        "id": "bFyPPZsWcw-6",
        "colab_type": "code",
        "colab": {
          "base_uri": "https://localhost:8080/",
          "height": 125
        },
        "outputId": "34a69ba8-d9b6-4677-d3c4-433cde513080"
      },
      "source": [
        "model.best_params_"
      ],
      "execution_count": null,
      "outputs": [
        {
          "output_type": "execute_result",
          "data": {
            "text/plain": [
              "{'C': 1000,\n",
              " 'coef0': 10,\n",
              " 'degree': 2,\n",
              " 'epsilon': 0.1,\n",
              " 'gamma': 'auto',\n",
              " 'kernel': 'poly'}"
            ]
          },
          "metadata": {
            "tags": []
          },
          "execution_count": 96
        }
      ]
    },
    {
      "cell_type": "code",
      "metadata": {
        "id": "yZxewlIAhTrS",
        "colab_type": "code",
        "colab": {
          "base_uri": "https://localhost:8080/",
          "height": 35
        },
        "outputId": "39483d94-914d-4d6f-bfcd-df9c93214ab6"
      },
      "source": [
        "trainX[:-1].shape, trainY[1:].shape"
      ],
      "execution_count": null,
      "outputs": [
        {
          "output_type": "execute_result",
          "data": {
            "text/plain": [
              "((99, 70), (99,))"
            ]
          },
          "metadata": {
            "tags": []
          },
          "execution_count": 7
        }
      ]
    },
    {
      "cell_type": "code",
      "metadata": {
        "id": "m5ROXXhKdc7m",
        "colab_type": "code",
        "colab": {
          "base_uri": "https://localhost:8080/",
          "height": 71
        },
        "outputId": "e1496428-a609-4701-fdb8-9badf878033c"
      },
      "source": [
        "svr_poly = SVR(kernel='poly', C=250, gamma='auto', degree=1, epsilon=.1, coef0=10)\n",
        "svr_linear = SVR(kernel='linear',C=100,epsilon=0.1)\n",
        "ind, equity = data_load(100)\n",
        "days=400\n",
        "ind,equity,corr=remove_features(ind,equity)\n",
        "trainX, trainY, validX, validY = input_data(ind,equity,days)\n",
        "print(trainX.shape, validX.shape, trainY.shape, validY.shape)\n",
        "model_p = svr_poly.fit(trainX, trainY)\n",
        "model_l = svr_linear.fit(trainX, trainY,)\n",
        "print(mean_absolute_error(validY[1:], model_p.predict(validX[:-1])), model_p.score(validX[:-1],validY[1:]))\n",
        "#print(model_p.score(validX,validY),model_l.score(validX,validY))"
      ],
      "execution_count": 84,
      "outputs": [
        {
          "output_type": "stream",
          "text": [
            "BWA.US Equity\n",
            "(400, 64) (1475, 64) (400,) (1475,)\n",
            "0.14578636197537512 0.7167295066989658\n"
          ],
          "name": "stdout"
        }
      ]
    },
    {
      "cell_type": "code",
      "metadata": {
        "id": "Hy6T23Xq-J9m",
        "colab_type": "code",
        "colab": {
          "base_uri": "https://localhost:8080/",
          "height": 555
        },
        "outputId": "ccaa1794-0b14-4cc9-9e2b-0e5b4c853d3f"
      },
      "source": [
        "#ypred_stack = stack.predict(validX)\n",
        "ypred_poly = model_p.predict(validX[:-1])\n",
        "matplotlib.style.use('ggplot')\n",
        "fig, ax1 = plt.subplots(figsize=(16, 9))\n",
        "#ax2 = ax1.twinx()\n",
        "# ax1.plot(ypred_stack,color='green')\n",
        "ax1.plot(ypred_poly,color='red')\n",
        "ax1.plot(validY[1:],color='black')\n",
        "ax1.legend(['polynomial','true'])"
      ],
      "execution_count": 85,
      "outputs": [
        {
          "output_type": "execute_result",
          "data": {
            "text/plain": [
              "<matplotlib.legend.Legend at 0x7f59710db358>"
            ]
          },
          "metadata": {
            "tags": []
          },
          "execution_count": 85
        },
        {
          "output_type": "display_data",
          "data": {
            "image/png": "[encoded data removed]",
            "text/plain": [
              "<Figure size 1152x648 with 1 Axes>"
            ]
          },
          "metadata": {
            "tags": []
          }
        }
      ]
    },
    {
      "cell_type": "markdown",
      "metadata": {
        "id": "yESCTqfUnKQm",
        "colab_type": "text"
      },
      "source": [
        "### **LightGBM**"
      ]
    },
    {
      "cell_type": "code",
      "metadata": {
        "id": "UiZ4fIve4LNK",
        "colab_type": "code",
        "colab": {}
      },
      "source": [
        "#model parameters\n",
        "param = {'num_leaves':300, 'objective':'mse','max_depth':20,'learning_rate':0.1,'max_bin':200, 'seed':15, 'verbose': -1}\n",
        "param['metric'] = ['mse']\n",
        "\n",
        "#model variables initialisation\n",
        "model=None\n",
        "evals_result = {} #store batch results\n",
        "cum_results = {'training':[], 'valid_1':[]} #store all results"
      ],
      "execution_count": null,
      "outputs": []
    },
    {
      "cell_type": "code",
      "metadata": {
        "id": "pcmNlOLE5m9p",
        "colab_type": "code",
        "colab": {}
      },
      "source": [
        "#training loop\n",
        "trainValidSplit = 0.75\n",
        "roundPerBatch = 5000\n",
        "#trainx=ind.to_numpy()\n",
        "#trainy=equity.to_numpy()"
      ],
      "execution_count": null,
      "outputs": []
    },
    {
      "cell_type": "code",
      "metadata": {
        "id": "Hws09L5O4tNf",
        "colab_type": "code",
        "colab": {}
      },
      "source": [
        "#training loop\n",
        "#build training and validation gbm dataset objects\n",
        "for i in range(43,44):\n",
        "  ind, equity = data_load(i)\n",
        "  newX,newY=remove_features(ind,equity)\n",
        "  trainX, trainY, validX, validY = input_data(newX,newY)\n",
        "  train_data = lgb.Dataset(trainX, label=trainY)\n",
        "  validation_data = lgb.Dataset(validX,label=validY)\n",
        "  #train model\n",
        "  model = lgb.train(param, train_data, roundPerBatch,\n",
        "                      valid_sets=[train_data, validation_data],\n",
        "                      evals_result=evals_result,\n",
        "                      verbose_eval=1,init_model=model)\n",
        "  cum_results['training'] += (evals_result['training']['l2'])\n",
        "  cum_results['valid_1'] += (evals_result['valid_1']['l2'])\n",
        "  #if i != int((sp500_hist_data.shape[1]/2)-1):\n",
        "   # del ind,equity,trainX, trainY, validX, validY,train_data,validation_data"
      ],
      "execution_count": null,
      "outputs": []
    },
    {
      "cell_type": "code",
      "metadata": {
        "id": "4ha0ra1-4wmK",
        "colab_type": "code",
        "colab": {
          "base_uri": "https://localhost:8080/",
          "height": 295
        },
        "outputId": "cbf44837-e03e-440d-d622-e681ae72b9a1"
      },
      "source": [
        "lgb.plot_importance(model, max_num_features=16);"
      ],
      "execution_count": null,
      "outputs": [
        {
          "output_type": "display_data",
          "data": {
            "image/png": "[encoded data removed]",
            "text/plain": [
              "<Figure size 432x288 with 1 Axes>"
            ]
          },
          "metadata": {
            "tags": [],
            "needs_background": "light"
          }
        }
      ]
    },
    {
      "cell_type": "markdown",
      "metadata": {
        "id": "afrAlGeQnW-P",
        "colab_type": "text"
      },
      "source": [
        "### **Quantile Regression**"
      ]
    },
    {
      "cell_type": "code",
      "metadata": {
        "id": "4bkTjuPSg0SQ",
        "colab_type": "code",
        "colab": {
          "base_uri": "https://localhost:8080/",
          "height": 881
        },
        "outputId": "9eeba8fb-2adf-4e38-ea57-85c717910978"
      },
      "source": [
        "ind, equity = data_load(43)\n",
        "ind,equity,corr=remove_features(ind,equity)\n",
        "#ind.info()\n",
        "trainX, trainY, validX, validY = input_data(ind,equity,500)\n",
        "print(trainX.shape, trainY.shape, validX.shape, validY.shape)\n",
        "mod = sm.regression.quantile_regression.QuantReg(trainY, trainX)\n",
        "model = mod.fit(q=.5,kernel='gau')\n",
        "print(model.summary())"
      ],
      "execution_count": null,
      "outputs": [
        {
          "output_type": "stream",
          "text": [
            "/usr/local/lib/python3.6/dist-packages/ta/trend.py:608: RuntimeWarning: invalid value encountered in double_scalars\n",
            "  dip[i] = 100 * (self._dip[i]/self._trs[i])\n",
            "/usr/local/lib/python3.6/dist-packages/ta/trend.py:612: RuntimeWarning: invalid value encountered in double_scalars\n",
            "  din[i] = 100 * (self._din[i]/self._trs[i])\n"
          ],
          "name": "stderr"
        },
        {
          "output_type": "stream",
          "text": [
            "(500, 23) (500,) (1375, 23) (1375,)\n",
            "                         QuantReg Regression Results                          \n",
            "==============================================================================\n",
            "Dep. Variable:                      y   Pseudo R-squared:               -5.755\n",
            "Model:                       QuantReg   Bandwidth:                       1.784\n",
            "Method:                 Least Squares   Sparsity:                   6.580e+291\n",
            "Date:                Wed, 16 Sep 2020   No. Observations:                  500\n",
            "Time:                        15:47:35   Df Residuals:                      477\n",
            "                                        Df Model:                           23\n",
            "==============================================================================\n",
            "                 coef    std err          t      P>|t|      [0.025      0.975]\n",
            "------------------------------------------------------------------------------\n",
            "x1             0.1244        nan        nan        nan         nan         nan\n",
            "x2             6.3341        nan        nan        nan         nan         nan\n",
            "x3             0.5473        nan        nan        nan         nan         nan\n",
            "x4             0.2652        nan        nan        nan         nan         nan\n",
            "x5             0.1332        nan        nan        nan         nan         nan\n",
            "x6            -0.8257        nan        nan        nan         nan         nan\n",
            "x7            11.0156        nan        nan        nan         nan         nan\n",
            "x8            -0.8820        nan        nan        nan         nan         nan\n",
            "x9            -5.7217        nan        nan        nan         nan         nan\n",
            "x10            1.4669        nan        nan        nan         nan         nan\n",
            "x11           -4.3859        nan        nan        nan         nan         nan\n",
            "x12           -1.5563        nan        nan        nan         nan         nan\n",
            "x13           31.8190        nan        nan        nan         nan         nan\n",
            "x14          -29.6553        nan        nan        nan         nan         nan\n",
            "x15           26.4586        nan        nan        nan         nan         nan\n",
            "x16          -13.8439        nan        nan        nan         nan         nan\n",
            "x17           -3.4890        nan        nan        nan         nan         nan\n",
            "x18            1.3443        nan        nan        nan         nan         nan\n",
            "x19           -8.5647        nan        nan        nan         nan         nan\n",
            "x20            0.8201        nan        nan        nan         nan         nan\n",
            "x21           -0.7968        nan        nan        nan         nan         nan\n",
            "x22            3.9660        nan        nan        nan         nan         nan\n",
            "x23           -0.9441        nan        nan        nan         nan         nan\n",
            "==============================================================================\n"
          ],
          "name": "stdout"
        },
        {
          "output_type": "stream",
          "text": [
            "/usr/local/lib/python3.6/dist-packages/statsmodels/regression/quantile_regression.py:206: RuntimeWarning: overflow encountered in double_scalars\n",
            "  d = np.where(e > 0, (q/fhat0)**2, ((1-q)/fhat0)**2)\n",
            "/usr/local/lib/python3.6/dist-packages/scipy/stats/_distn_infrastructure.py:903: RuntimeWarning: invalid value encountered in greater\n",
            "  return (a < x) & (x < b)\n",
            "/usr/local/lib/python3.6/dist-packages/scipy/stats/_distn_infrastructure.py:903: RuntimeWarning: invalid value encountered in less\n",
            "  return (a < x) & (x < b)\n",
            "/usr/local/lib/python3.6/dist-packages/scipy/stats/_distn_infrastructure.py:1912: RuntimeWarning: invalid value encountered in less_equal\n",
            "  cond2 = cond0 & (x <= _a)\n"
          ],
          "name": "stderr"
        }
      ]
    },
    {
      "cell_type": "markdown",
      "metadata": {
        "id": "g6wDstLxowIT",
        "colab_type": "text"
      },
      "source": [
        "### **Support Vector Quantile Regression**"
      ]
    },
    {
      "cell_type": "code",
      "metadata": {
        "id": "mbxT_wtKovrO",
        "colab_type": "code",
        "colab": {
          "base_uri": "https://localhost:8080/",
          "height": 235
        },
        "outputId": "22bc83c7-eb3f-4606-eed7-43c3438e0412"
      },
      "source": [
        "!pip3 install liquidSVM"
      ],
      "execution_count": null,
      "outputs": [
        {
          "output_type": "stream",
          "text": [
            "Collecting liquidSVM\n",
            "\u001b[?25l  Downloading https://files.pythonhosted.org/packages/92/76/202fa2be6c5927b93b1c21f3ebb3cd766e3dffd12d3c3fcd2b7b8f39d5f3/liquidSVM-1.0.1.tar.gz (560kB)\n",
            "\u001b[K     |████████████████████████████████| 563kB 4.9MB/s \n",
            "\u001b[?25hRequirement already satisfied: numpy in /usr/local/lib/python3.6/dist-packages (from liquidSVM) (1.18.5)\n",
            "Building wheels for collected packages: liquidSVM\n",
            "  Building wheel for liquidSVM (setup.py) ... \u001b[?25l\u001b[?25hdone\n",
            "  Created wheel for liquidSVM: filename=liquidSVM-1.0.1-cp36-cp36m-linux_x86_64.whl size=2578630 sha256=692a7a1a56bf1a14fc82451cd6020a20de808647eeee3d9b5f78701ff92f6644\n",
            "  Stored in directory: /root/.cache/pip/wheels/85/3f/fc/daaad6cff352e71e2eab30b54adaec90108fc2908324c0511a\n",
            "Successfully built liquidSVM\n",
            "Installing collected packages: liquidSVM\n",
            "Successfully installed liquidSVM-1.0.1\n"
          ],
          "name": "stdout"
        }
      ]
    },
    {
      "cell_type": "code",
      "metadata": {
        "id": "YviJ0yr5o6Xu",
        "colab_type": "code",
        "colab": {}
      },
      "source": [
        "from liquidSVM import LiquidData,qtSVM"
      ],
      "execution_count": null,
      "outputs": []
    },
    {
      "cell_type": "code",
      "metadata": {
        "id": "1gC-k-uapF5w",
        "colab_type": "code",
        "colab": {
          "base_uri": "https://localhost:8080/",
          "height": 161
        },
        "outputId": "2722a312-dedb-477d-87c1-ec20f80057dd"
      },
      "source": [
        "reg = LiquidData('reg-1d')\n",
        "print(reg.train)"
      ],
      "execution_count": null,
      "outputs": [
        {
          "output_type": "stream",
          "text": [
            "{'data': array([[0.28986675],\n",
            "       [0.19561529],\n",
            "       [0.23956186],\n",
            "       ...,\n",
            "       [0.90154848],\n",
            "       [0.95844949],\n",
            "       [1.06665809]]), 'target': array([0.42561854, 0.36602415, 0.33559088, ..., 0.44949226, 0.38824736,\n",
            "       0.49917251]), 'DESCR': 'reg-1d (train)'}\n"
          ],
          "name": "stdout"
        }
      ]
    },
    {
      "cell_type": "code",
      "metadata": {
        "id": "aAqZ__Rfo_mu",
        "colab_type": "code",
        "colab": {
          "base_uri": "https://localhost:8080/",
          "height": 370
        },
        "outputId": "b7101cd9-9d2c-454b-c233-334932eaf54e"
      },
      "source": [
        "quantiles_list = [ 0.05, 0.1, 0.5, 0.9, 0.95 ]\n",
        "\n",
        "ind, equity = data_load(43)\n",
        "ind,equity,corr=remove_features(ind,equity)\n",
        "trainX, trainY, validX, validY = input_data(ind,equity,500)\n",
        "print(trainX.shape, trainY.shape, validX.shape, validY.shape)\n",
        "print(data.shape)\n",
        "model = qtSVM(reg.train, weights=quantiles_list,)\n",
        "\n",
        "result, err = model.test(reg.test)\n",
        "err[:,0]"
      ],
      "execution_count": null,
      "outputs": [
        {
          "output_type": "stream",
          "text": [
            "/usr/local/lib/python3.6/dist-packages/ta/trend.py:608: RuntimeWarning: invalid value encountered in double_scalars\n",
            "  dip[i] = 100 * (self._dip[i]/self._trs[i])\n",
            "/usr/local/lib/python3.6/dist-packages/ta/trend.py:612: RuntimeWarning: invalid value encountered in double_scalars\n",
            "  din[i] = 100 * (self._din[i]/self._trs[i])\n"
          ],
          "name": "stderr"
        },
        {
          "output_type": "stream",
          "text": [
            "(500, 70) (500,) (1375, 70) (1375,)\n"
          ],
          "name": "stdout"
        },
        {
          "output_type": "error",
          "ename": "ValueError",
          "evalue": "ignored",
          "traceback": [
            "\u001b[0;31m---------------------------------------------------------------------------\u001b[0m",
            "\u001b[0;31mValueError\u001b[0m                                Traceback (most recent call last)",
            "\u001b[0;32m<ipython-input-177-d8c3eb1e92bc>\u001b[0m in \u001b[0;36m<module>\u001b[0;34m()\u001b[0m\n\u001b[1;32m      5\u001b[0m \u001b[0mtrainX\u001b[0m\u001b[0;34m,\u001b[0m \u001b[0mtrainY\u001b[0m\u001b[0;34m,\u001b[0m \u001b[0mvalidX\u001b[0m\u001b[0;34m,\u001b[0m \u001b[0mvalidY\u001b[0m \u001b[0;34m=\u001b[0m \u001b[0minput_data\u001b[0m\u001b[0;34m(\u001b[0m\u001b[0mind\u001b[0m\u001b[0;34m,\u001b[0m\u001b[0mequity\u001b[0m\u001b[0;34m,\u001b[0m\u001b[0;36m500\u001b[0m\u001b[0;34m)\u001b[0m\u001b[0;34m\u001b[0m\u001b[0;34m\u001b[0m\u001b[0m\n\u001b[1;32m      6\u001b[0m \u001b[0mprint\u001b[0m\u001b[0;34m(\u001b[0m\u001b[0mtrainX\u001b[0m\u001b[0;34m.\u001b[0m\u001b[0mshape\u001b[0m\u001b[0;34m,\u001b[0m \u001b[0mtrainY\u001b[0m\u001b[0;34m.\u001b[0m\u001b[0mshape\u001b[0m\u001b[0;34m,\u001b[0m \u001b[0mvalidX\u001b[0m\u001b[0;34m.\u001b[0m\u001b[0mshape\u001b[0m\u001b[0;34m,\u001b[0m \u001b[0mvalidY\u001b[0m\u001b[0;34m.\u001b[0m\u001b[0mshape\u001b[0m\u001b[0;34m)\u001b[0m\u001b[0;34m\u001b[0m\u001b[0;34m\u001b[0m\u001b[0m\n\u001b[0;32m----> 7\u001b[0;31m \u001b[0mdata\u001b[0m\u001b[0;34m=\u001b[0m\u001b[0mnp\u001b[0m\u001b[0;34m.\u001b[0m\u001b[0mconcatenate\u001b[0m\u001b[0;34m(\u001b[0m\u001b[0;34m(\u001b[0m\u001b[0mtrainX\u001b[0m\u001b[0;34m,\u001b[0m\u001b[0mtrainY\u001b[0m\u001b[0;34m)\u001b[0m\u001b[0;34m,\u001b[0m\u001b[0maxis\u001b[0m\u001b[0;34m=\u001b[0m\u001b[0;36m1\u001b[0m\u001b[0;34m)\u001b[0m\u001b[0;34m\u001b[0m\u001b[0;34m\u001b[0m\u001b[0m\n\u001b[0m\u001b[1;32m      8\u001b[0m \u001b[0mprint\u001b[0m\u001b[0;34m(\u001b[0m\u001b[0mdata\u001b[0m\u001b[0;34m.\u001b[0m\u001b[0mshape\u001b[0m\u001b[0;34m)\u001b[0m\u001b[0;34m\u001b[0m\u001b[0;34m\u001b[0m\u001b[0m\n\u001b[1;32m      9\u001b[0m \u001b[0mmodel\u001b[0m \u001b[0;34m=\u001b[0m \u001b[0mqtSVM\u001b[0m\u001b[0;34m(\u001b[0m\u001b[0mreg\u001b[0m\u001b[0;34m.\u001b[0m\u001b[0mtrain\u001b[0m\u001b[0;34m,\u001b[0m \u001b[0mweights\u001b[0m\u001b[0;34m=\u001b[0m\u001b[0mquantiles_list\u001b[0m\u001b[0;34m,\u001b[0m\u001b[0;34m)\u001b[0m\u001b[0;34m\u001b[0m\u001b[0;34m\u001b[0m\u001b[0m\n",
            "\u001b[0;32m<__array_function__ internals>\u001b[0m in \u001b[0;36mconcatenate\u001b[0;34m(*args, **kwargs)\u001b[0m\n",
            "\u001b[0;31mValueError\u001b[0m: all the input arrays must have same number of dimensions, but the array at index 0 has 2 dimension(s) and the array at index 1 has 1 dimension(s)"
          ]
        }
      ]
    }
  ]
}