{
  "nbformat": 4,
  "nbformat_minor": 0,
  "metadata": {
    "colab": {
      "name": "Portfolio Investment.ipynb",
      "provenance": [],
      "collapsed_sections": [],
      "authorship_tag": "ABX9TyPXiaQx/CSyOrWaL1q5jSiX",
      "include_colab_link": true
    },
    "kernelspec": {
      "name": "python3",
      "display_name": "Python 3"
    },
    "accelerator": "GPU"
  },
  "cells": [
    {
      "cell_type": "markdown",
      "metadata": {
        "id": "view-in-github",
        "colab_type": "text"
      },
      "source": [
        "<a href=\"https://colab.research.google.com/github/puneat/Algorithmic_Portfolio/blob/puneet/Portfolio_Investment.ipynb\" target=\"_parent\"><img src=\"https://colab.research.google.com/assets/colab-badge.svg\" alt=\"Open In Colab\"/></a>"
      ]
    },
    {
      "cell_type": "code",
      "metadata": {
        "id": "shw7-phs_5ep",
        "colab_type": "code",
        "colab": {
          "base_uri": "https://localhost:8080/",
          "height": 35
        },
        "outputId": "cef42c58-eaa3-422b-b580-122b9d4ff7d1"
      },
      "source": [
        "from google.colab import drive\n",
        "drive.mount('/gdrive', force_remount=True)"
      ],
      "execution_count": null,
      "outputs": [
        {
          "output_type": "stream",
          "text": [
            "Mounted at /gdrive\n"
          ],
          "name": "stdout"
        }
      ]
    },
    {
      "cell_type": "code",
      "metadata": {
        "id": "vWcaazlFEdzI",
        "colab_type": "code",
        "colab": {
          "base_uri": "https://localhost:8080/",
          "height": 125
        },
        "outputId": "8226cd2d-e03c-4f82-b256-6ee1e5d40a56"
      },
      "source": [
        "!pip3 install ta"
      ],
      "execution_count": null,
      "outputs": [
        {
          "output_type": "stream",
          "text": [
            "Requirement already satisfied: ta in /usr/local/lib/python3.6/dist-packages (0.5.25)\n",
            "Requirement already satisfied: numpy in /usr/local/lib/python3.6/dist-packages (from ta) (1.18.5)\n",
            "Requirement already satisfied: pandas in /usr/local/lib/python3.6/dist-packages (from ta) (1.0.5)\n",
            "Requirement already satisfied: pytz>=2017.2 in /usr/local/lib/python3.6/dist-packages (from pandas->ta) (2018.9)\n",
            "Requirement already satisfied: python-dateutil>=2.6.1 in /usr/local/lib/python3.6/dist-packages (from pandas->ta) (2.8.1)\n",
            "Requirement already satisfied: six>=1.5 in /usr/local/lib/python3.6/dist-packages (from python-dateutil>=2.6.1->pandas->ta) (1.15.0)\n"
          ],
          "name": "stdout"
        }
      ]
    },
    {
      "cell_type": "code",
      "metadata": {
        "id": "yXdUjw1TXK67",
        "colab_type": "code",
        "colab": {}
      },
      "source": [
        "import pandas as pd\n",
        "import numpy as np\n",
        "import matplotlib\n",
        "import matplotlib.pyplot as plt\n",
        "import lightgbm as lgb\n",
        "from sklearn.preprocessing import StandardScaler\n",
        "import pandas as pd\n",
        "from ta import add_all_ta_features\n",
        "from ta.utils import dropna\n",
        "from sklearn.svm import SVR\n",
        "from sklearn.model_selection import GridSearchCV\n",
        "import statsmodels as sm\n",
        "import statsmodels.formula.api as smf\n",
        "from sklearn.metrics import mean_absolute_error\n",
        "import warnings\n",
        "warnings.filterwarnings(\"ignore\")"
      ],
      "execution_count": null,
      "outputs": []
    },
    {
      "cell_type": "code",
      "metadata": {
        "id": "gSaxOozpSi47",
        "colab_type": "code",
        "colab": {}
      },
      "source": [
        "def read_price_data(idx):\n",
        "  open = pd.read_csv('/gdrive/My Drive/UBS/S&P500/data/open_price.csv')\n",
        "  close = pd.read_csv('/gdrive/My Drive/UBS/S&P500/data/close_price.csv')\n",
        "  high = pd.read_csv('/gdrive/My Drive/UBS/S&P500/data/high_price.csv')\n",
        "  low = pd.read_csv('/gdrive/My Drive/UBS/S&P500/data/low_price.csv')\n",
        "  bb_live = pd.read_csv('/gdrive/My Drive/UBS/S&P500/data/bb_live.csv')\n",
        "  volume = pd.read_csv('/gdrive/My Drive/UBS/S&P500/data/volume.csv')\n",
        "\n",
        "  open=open.iloc[:,[0,idx]]\n",
        "  close=close.iloc[:,[0,idx]]\n",
        "  high=high.iloc[:,[0,idx]]\n",
        "  low=low.iloc[:,[0,idx]]\n",
        "  bb_live=bb_live.iloc[:,[0,idx]]\n",
        "  volume=volume.iloc[:,[0,idx]]\n",
        "\n",
        "  open=open.set_index('date')\n",
        "  close=close.set_index('date')\n",
        "  high=high.set_index('date')\n",
        "  low=low.set_index('date')\n",
        "  bb_live=bb_live.set_index('date')\n",
        "  volume=volume.set_index('date')\n",
        "\n",
        "  result = pd.concat([open,high,low,close,volume,bb_live], axis=1).reindex(bb_live.index)\n",
        "  result.columns = ['open','high','low','close','volume','bb_live'] \n",
        "  return result\n",
        "\n",
        "def data_load(idx):\n",
        "  prices = read_price_data(idx)\n",
        "  tech_ind = add_all_ta_features(prices, open=\"open\", high=\"high\", low=\"low\", close=\"close\", volume=\"volume\")\n",
        "  secondary_index_data = pd.read_csv('/gdrive/My Drive/UBS/S&P500/data/secondary_data.csv')\n",
        "  secondary_index_data=secondary_index_data.set_index('date')\n",
        "\n",
        "  ind=pd.concat([tech_ind, secondary_index_data], axis=1).reindex(tech_ind.index)\n",
        "  #ind=tech_ind\n",
        "  ind=ind.dropna(axis=1,how='all',thresh=2000)\n",
        "  ind=ind.dropna(axis=0)\n",
        "\n",
        "  #equity=sp500_hist_data.iloc[:,[0,idx]]\n",
        "  #missing_values = set(ind.iloc[:, 0]).symmetric_difference(set(equity.iloc[:, 0]))\n",
        "  #missing_values=list(missing_values)\n",
        "  #print(len(missing_values))\n",
        "  #ind = ind[~ind['date'].isin(missing_values)]\n",
        "  #equity = equity[~equity['date'].isin(missing_values)]\n",
        "  X=ind.iloc[:,6:]\n",
        "  y=ind.iloc[:,3]\n",
        "  return X, y\n",
        "\n",
        "def input_data(trainx,trainy,index):\n",
        "  trainx=trainx.to_numpy()\n",
        "  trainy=trainy.to_numpy()\n",
        "  trainX, trainY = trainx[:index,:], trainy[:index]\n",
        "  validX, validY = trainx[index:,:], trainy[index:]\n",
        "  scaler = StandardScaler()\n",
        "  trainX=scaler.fit_transform(trainX)\n",
        "  validX=scaler.transform(validX)\n",
        "  return trainX, trainY, validX, validY\n",
        "\n",
        "def remove_features(trainX,trainY):\n",
        "  corr_matrix=[]\n",
        "  for idx in range(0,trainX.shape[1]): \n",
        "    corr=np.corrcoef(trainX.iloc[:,idx].to_numpy(),trainY.to_numpy())\n",
        "    corr_matrix.append(corr[0,1]*100)\n",
        "    idx_list=[]\n",
        "  for i,val in enumerate(corr_matrix):\n",
        "    if (val<=5 and val>=-5):\n",
        "      idx_list.append(i)\n",
        "    #elif (val>=98):\n",
        "    #  idx_list.append(i)\n",
        "  trainX=trainX.drop(columns=trainX.columns[idx_list])\n",
        "  return trainX,trainY, corr_matrix"
      ],
      "execution_count": 105,
      "outputs": []
    },
    {
      "cell_type": "code",
      "metadata": {
        "id": "l-NyeT1cXFwt",
        "colab_type": "code",
        "colab": {}
      },
      "source": [
        "sp500_hist_data = pd.read_csv('/gdrive/My Drive/UBS/S&P500/data/close_price.csv')\n",
        "sp500_companies = pd.read_csv('/gdrive/My Drive/UBS/S&P500/data/company_data.csv')\n",
        "secondary_index_data = pd.read_csv('/gdrive/My Drive/UBS/S&P500/data/secondary_data.csv')"
      ],
      "execution_count": null,
      "outputs": []
    },
    {
      "cell_type": "markdown",
      "metadata": {
        "id": "yESCTqfUnKQm",
        "colab_type": "text"
      },
      "source": [
        "### **LightGBM**"
      ]
    },
    {
      "cell_type": "code",
      "metadata": {
        "id": "UiZ4fIve4LNK",
        "colab_type": "code",
        "colab": {}
      },
      "source": [
        "#model parameters\n",
        "param = {'num_leaves':300, 'objective':'mse','max_depth':20,'learning_rate':0.1,'max_bin':200, 'seed':15, 'verbose': -1}\n",
        "param['metric'] = ['mse']\n",
        "\n",
        "#model variables initialisation\n",
        "model=None\n",
        "evals_result = {} #store batch results\n",
        "cum_results = {'training':[], 'valid_1':[]} #store all results"
      ],
      "execution_count": null,
      "outputs": []
    },
    {
      "cell_type": "code",
      "metadata": {
        "id": "pcmNlOLE5m9p",
        "colab_type": "code",
        "colab": {}
      },
      "source": [
        "#training loop\n",
        "trainValidSplit = 0.75\n",
        "roundPerBatch = 5000\n",
        "#trainx=ind.to_numpy()\n",
        "#trainy=equity.to_numpy()"
      ],
      "execution_count": null,
      "outputs": []
    },
    {
      "cell_type": "code",
      "metadata": {
        "id": "Hws09L5O4tNf",
        "colab_type": "code",
        "colab": {}
      },
      "source": [
        "#training loop\n",
        "#build training and validation gbm dataset objects\n",
        "for i in range(43,44):\n",
        "  ind, equity = data_load(i)\n",
        "  newX,newY=remove_features(ind,equity)\n",
        "  trainX, trainY, validX, validY = input_data(newX,newY)\n",
        "  train_data = lgb.Dataset(trainX, label=trainY)\n",
        "  validation_data = lgb.Dataset(validX,label=validY)\n",
        "  #train model\n",
        "  model = lgb.train(param, train_data, roundPerBatch,\n",
        "                      valid_sets=[train_data, validation_data],\n",
        "                      evals_result=evals_result,\n",
        "                      verbose_eval=1,init_model=model)\n",
        "  cum_results['training'] += (evals_result['training']['l2'])\n",
        "  cum_results['valid_1'] += (evals_result['valid_1']['l2'])\n",
        "  #if i != int((sp500_hist_data.shape[1]/2)-1):\n",
        "   # del ind,equity,trainX, trainY, validX, validY,train_data,validation_data"
      ],
      "execution_count": null,
      "outputs": []
    },
    {
      "cell_type": "code",
      "metadata": {
        "id": "4ha0ra1-4wmK",
        "colab_type": "code",
        "colab": {
          "base_uri": "https://localhost:8080/",
          "height": 295
        },
        "outputId": "cbf44837-e03e-440d-d622-e681ae72b9a1"
      },
      "source": [
        "lgb.plot_importance(model, max_num_features=16);"
      ],
      "execution_count": null,
      "outputs": [
        {
          "output_type": "display_data",
          "data": {
            "image/png": "[encoded data removed]",
            "text/plain": [
              "<Figure size 432x288 with 1 Axes>"
            ]
          },
          "metadata": {
            "tags": [],
            "needs_background": "light"
          }
        }
      ]
    },
    {
      "cell_type": "markdown",
      "metadata": {
        "id": "afrAlGeQnW-P",
        "colab_type": "text"
      },
      "source": [
        "### **Quantile Regression**"
      ]
    },
    {
      "cell_type": "code",
      "metadata": {
        "id": "4bkTjuPSg0SQ",
        "colab_type": "code",
        "colab": {
          "base_uri": "https://localhost:8080/",
          "height": 881
        },
        "outputId": "9eeba8fb-2adf-4e38-ea57-85c717910978"
      },
      "source": [
        "ind, equity = data_load(43)\n",
        "ind,equity,corr=remove_features(ind,equity)\n",
        "#ind.info()\n",
        "trainX, trainY, validX, validY = input_data(ind,equity,500)\n",
        "print(trainX.shape, trainY.shape, validX.shape, validY.shape)\n",
        "mod = sm.regression.quantile_regression.QuantReg(trainY, trainX)\n",
        "model = mod.fit(q=.5,kernel='gau')\n",
        "print(model.summary())"
      ],
      "execution_count": null,
      "outputs": [
        {
          "output_type": "stream",
          "text": [
            "/usr/local/lib/python3.6/dist-packages/ta/trend.py:608: RuntimeWarning: invalid value encountered in double_scalars\n",
            "  dip[i] = 100 * (self._dip[i]/self._trs[i])\n",
            "/usr/local/lib/python3.6/dist-packages/ta/trend.py:612: RuntimeWarning: invalid value encountered in double_scalars\n",
            "  din[i] = 100 * (self._din[i]/self._trs[i])\n"
          ],
          "name": "stderr"
        },
        {
          "output_type": "stream",
          "text": [
            "(500, 23) (500,) (1375, 23) (1375,)\n",
            "                         QuantReg Regression Results                          \n",
            "==============================================================================\n",
            "Dep. Variable:                      y   Pseudo R-squared:               -5.755\n",
            "Model:                       QuantReg   Bandwidth:                       1.784\n",
            "Method:                 Least Squares   Sparsity:                   6.580e+291\n",
            "Date:                Wed, 16 Sep 2020   No. Observations:                  500\n",
            "Time:                        15:47:35   Df Residuals:                      477\n",
            "                                        Df Model:                           23\n",
            "==============================================================================\n",
            "                 coef    std err          t      P>|t|      [0.025      0.975]\n",
            "------------------------------------------------------------------------------\n",
            "x1             0.1244        nan        nan        nan         nan         nan\n",
            "x2             6.3341        nan        nan        nan         nan         nan\n",
            "x3             0.5473        nan        nan        nan         nan         nan\n",
            "x4             0.2652        nan        nan        nan         nan         nan\n",
            "x5             0.1332        nan        nan        nan         nan         nan\n",
            "x6            -0.8257        nan        nan        nan         nan         nan\n",
            "x7            11.0156        nan        nan        nan         nan         nan\n",
            "x8            -0.8820        nan        nan        nan         nan         nan\n",
            "x9            -5.7217        nan        nan        nan         nan         nan\n",
            "x10            1.4669        nan        nan        nan         nan         nan\n",
            "x11           -4.3859        nan        nan        nan         nan         nan\n",
            "x12           -1.5563        nan        nan        nan         nan         nan\n",
            "x13           31.8190        nan        nan        nan         nan         nan\n",
            "x14          -29.6553        nan        nan        nan         nan         nan\n",
            "x15           26.4586        nan        nan        nan         nan         nan\n",
            "x16          -13.8439        nan        nan        nan         nan         nan\n",
            "x17           -3.4890        nan        nan        nan         nan         nan\n",
            "x18            1.3443        nan        nan        nan         nan         nan\n",
            "x19           -8.5647        nan        nan        nan         nan         nan\n",
            "x20            0.8201        nan        nan        nan         nan         nan\n",
            "x21           -0.7968        nan        nan        nan         nan         nan\n",
            "x22            3.9660        nan        nan        nan         nan         nan\n",
            "x23           -0.9441        nan        nan        nan         nan         nan\n",
            "==============================================================================\n"
          ],
          "name": "stdout"
        },
        {
          "output_type": "stream",
          "text": [
            "/usr/local/lib/python3.6/dist-packages/statsmodels/regression/quantile_regression.py:206: RuntimeWarning: overflow encountered in double_scalars\n",
            "  d = np.where(e > 0, (q/fhat0)**2, ((1-q)/fhat0)**2)\n",
            "/usr/local/lib/python3.6/dist-packages/scipy/stats/_distn_infrastructure.py:903: RuntimeWarning: invalid value encountered in greater\n",
            "  return (a < x) & (x < b)\n",
            "/usr/local/lib/python3.6/dist-packages/scipy/stats/_distn_infrastructure.py:903: RuntimeWarning: invalid value encountered in less\n",
            "  return (a < x) & (x < b)\n",
            "/usr/local/lib/python3.6/dist-packages/scipy/stats/_distn_infrastructure.py:1912: RuntimeWarning: invalid value encountered in less_equal\n",
            "  cond2 = cond0 & (x <= _a)\n"
          ],
          "name": "stderr"
        }
      ]
    },
    {
      "cell_type": "markdown",
      "metadata": {
        "id": "g6wDstLxowIT",
        "colab_type": "text"
      },
      "source": [
        "### **Support Vector Quantile Regression**"
      ]
    },
    {
      "cell_type": "code",
      "metadata": {
        "id": "mbxT_wtKovrO",
        "colab_type": "code",
        "colab": {
          "base_uri": "https://localhost:8080/",
          "height": 235
        },
        "outputId": "22bc83c7-eb3f-4606-eed7-43c3438e0412"
      },
      "source": [
        "!pip3 install liquidSVM"
      ],
      "execution_count": null,
      "outputs": [
        {
          "output_type": "stream",
          "text": [
            "Collecting liquidSVM\n",
            "\u001b[?25l  Downloading https://files.pythonhosted.org/packages/92/76/202fa2be6c5927b93b1c21f3ebb3cd766e3dffd12d3c3fcd2b7b8f39d5f3/liquidSVM-1.0.1.tar.gz (560kB)\n",
            "\u001b[K     |████████████████████████████████| 563kB 4.9MB/s \n",
            "\u001b[?25hRequirement already satisfied: numpy in /usr/local/lib/python3.6/dist-packages (from liquidSVM) (1.18.5)\n",
            "Building wheels for collected packages: liquidSVM\n",
            "  Building wheel for liquidSVM (setup.py) ... \u001b[?25l\u001b[?25hdone\n",
            "  Created wheel for liquidSVM: filename=liquidSVM-1.0.1-cp36-cp36m-linux_x86_64.whl size=2578630 sha256=692a7a1a56bf1a14fc82451cd6020a20de808647eeee3d9b5f78701ff92f6644\n",
            "  Stored in directory: /root/.cache/pip/wheels/85/3f/fc/daaad6cff352e71e2eab30b54adaec90108fc2908324c0511a\n",
            "Successfully built liquidSVM\n",
            "Installing collected packages: liquidSVM\n",
            "Successfully installed liquidSVM-1.0.1\n"
          ],
          "name": "stdout"
        }
      ]
    },
    {
      "cell_type": "code",
      "metadata": {
        "id": "YviJ0yr5o6Xu",
        "colab_type": "code",
        "colab": {}
      },
      "source": [
        "from liquidSVM import LiquidData,qtSVM"
      ],
      "execution_count": null,
      "outputs": []
    },
    {
      "cell_type": "code",
      "metadata": {
        "id": "1gC-k-uapF5w",
        "colab_type": "code",
        "colab": {
          "base_uri": "https://localhost:8080/",
          "height": 161
        },
        "outputId": "2722a312-dedb-477d-87c1-ec20f80057dd"
      },
      "source": [
        "reg = LiquidData('reg-1d')\n",
        "print(reg.train)"
      ],
      "execution_count": null,
      "outputs": [
        {
          "output_type": "stream",
          "text": [
            "{'data': array([[0.28986675],\n",
            "       [0.19561529],\n",
            "       [0.23956186],\n",
            "       ...,\n",
            "       [0.90154848],\n",
            "       [0.95844949],\n",
            "       [1.06665809]]), 'target': array([0.42561854, 0.36602415, 0.33559088, ..., 0.44949226, 0.38824736,\n",
            "       0.49917251]), 'DESCR': 'reg-1d (train)'}\n"
          ],
          "name": "stdout"
        }
      ]
    },
    {
      "cell_type": "code",
      "metadata": {
        "id": "aAqZ__Rfo_mu",
        "colab_type": "code",
        "colab": {
          "base_uri": "https://localhost:8080/",
          "height": 370
        },
        "outputId": "b7101cd9-9d2c-454b-c233-334932eaf54e"
      },
      "source": [
        "quantiles_list = [ 0.05, 0.1, 0.5, 0.9, 0.95 ]\n",
        "\n",
        "ind, equity = data_load(43)\n",
        "ind,equity,corr=remove_features(ind,equity)\n",
        "trainX, trainY, validX, validY = input_data(ind,equity,500)\n",
        "print(trainX.shape, trainY.shape, validX.shape, validY.shape)\n",
        "print(data.shape)\n",
        "model = qtSVM(reg.train, weights=quantiles_list,)\n",
        "\n",
        "result, err = model.test(reg.test)\n",
        "err[:,0]"
      ],
      "execution_count": null,
      "outputs": [
        {
          "output_type": "stream",
          "text": [
            "/usr/local/lib/python3.6/dist-packages/ta/trend.py:608: RuntimeWarning: invalid value encountered in double_scalars\n",
            "  dip[i] = 100 * (self._dip[i]/self._trs[i])\n",
            "/usr/local/lib/python3.6/dist-packages/ta/trend.py:612: RuntimeWarning: invalid value encountered in double_scalars\n",
            "  din[i] = 100 * (self._din[i]/self._trs[i])\n"
          ],
          "name": "stderr"
        },
        {
          "output_type": "stream",
          "text": [
            "(500, 70) (500,) (1375, 70) (1375,)\n"
          ],
          "name": "stdout"
        },
        {
          "output_type": "error",
          "ename": "ValueError",
          "evalue": "ignored",
          "traceback": [
            "\u001b[0;31m---------------------------------------------------------------------------\u001b[0m",
            "\u001b[0;31mValueError\u001b[0m                                Traceback (most recent call last)",
            "\u001b[0;32m<ipython-input-177-d8c3eb1e92bc>\u001b[0m in \u001b[0;36m<module>\u001b[0;34m()\u001b[0m\n\u001b[1;32m      5\u001b[0m \u001b[0mtrainX\u001b[0m\u001b[0;34m,\u001b[0m \u001b[0mtrainY\u001b[0m\u001b[0;34m,\u001b[0m \u001b[0mvalidX\u001b[0m\u001b[0;34m,\u001b[0m \u001b[0mvalidY\u001b[0m \u001b[0;34m=\u001b[0m \u001b[0minput_data\u001b[0m\u001b[0;34m(\u001b[0m\u001b[0mind\u001b[0m\u001b[0;34m,\u001b[0m\u001b[0mequity\u001b[0m\u001b[0;34m,\u001b[0m\u001b[0;36m500\u001b[0m\u001b[0;34m)\u001b[0m\u001b[0;34m\u001b[0m\u001b[0;34m\u001b[0m\u001b[0m\n\u001b[1;32m      6\u001b[0m \u001b[0mprint\u001b[0m\u001b[0;34m(\u001b[0m\u001b[0mtrainX\u001b[0m\u001b[0;34m.\u001b[0m\u001b[0mshape\u001b[0m\u001b[0;34m,\u001b[0m \u001b[0mtrainY\u001b[0m\u001b[0;34m.\u001b[0m\u001b[0mshape\u001b[0m\u001b[0;34m,\u001b[0m \u001b[0mvalidX\u001b[0m\u001b[0;34m.\u001b[0m\u001b[0mshape\u001b[0m\u001b[0;34m,\u001b[0m \u001b[0mvalidY\u001b[0m\u001b[0;34m.\u001b[0m\u001b[0mshape\u001b[0m\u001b[0;34m)\u001b[0m\u001b[0;34m\u001b[0m\u001b[0;34m\u001b[0m\u001b[0m\n\u001b[0;32m----> 7\u001b[0;31m \u001b[0mdata\u001b[0m\u001b[0;34m=\u001b[0m\u001b[0mnp\u001b[0m\u001b[0;34m.\u001b[0m\u001b[0mconcatenate\u001b[0m\u001b[0;34m(\u001b[0m\u001b[0;34m(\u001b[0m\u001b[0mtrainX\u001b[0m\u001b[0;34m,\u001b[0m\u001b[0mtrainY\u001b[0m\u001b[0;34m)\u001b[0m\u001b[0;34m,\u001b[0m\u001b[0maxis\u001b[0m\u001b[0;34m=\u001b[0m\u001b[0;36m1\u001b[0m\u001b[0;34m)\u001b[0m\u001b[0;34m\u001b[0m\u001b[0;34m\u001b[0m\u001b[0m\n\u001b[0m\u001b[1;32m      8\u001b[0m \u001b[0mprint\u001b[0m\u001b[0;34m(\u001b[0m\u001b[0mdata\u001b[0m\u001b[0;34m.\u001b[0m\u001b[0mshape\u001b[0m\u001b[0;34m)\u001b[0m\u001b[0;34m\u001b[0m\u001b[0;34m\u001b[0m\u001b[0m\n\u001b[1;32m      9\u001b[0m \u001b[0mmodel\u001b[0m \u001b[0;34m=\u001b[0m \u001b[0mqtSVM\u001b[0m\u001b[0;34m(\u001b[0m\u001b[0mreg\u001b[0m\u001b[0;34m.\u001b[0m\u001b[0mtrain\u001b[0m\u001b[0;34m,\u001b[0m \u001b[0mweights\u001b[0m\u001b[0;34m=\u001b[0m\u001b[0mquantiles_list\u001b[0m\u001b[0;34m,\u001b[0m\u001b[0;34m)\u001b[0m\u001b[0;34m\u001b[0m\u001b[0;34m\u001b[0m\u001b[0m\n",
            "\u001b[0;32m<__array_function__ internals>\u001b[0m in \u001b[0;36mconcatenate\u001b[0;34m(*args, **kwargs)\u001b[0m\n",
            "\u001b[0;31mValueError\u001b[0m: all the input arrays must have same number of dimensions, but the array at index 0 has 2 dimension(s) and the array at index 1 has 1 dimension(s)"
          ]
        }
      ]
    },
    {
      "cell_type": "markdown",
      "metadata": {
        "id": "-Ac_EJ0Enk3k",
        "colab_type": "text"
      },
      "source": [
        "### **Support Vector Regression**"
      ]
    },
    {
      "cell_type": "code",
      "metadata": {
        "id": "9Xw4_cWXUO1a",
        "colab_type": "code",
        "colab": {
          "base_uri": "https://localhost:8080/",
          "height": 125
        },
        "outputId": "68db8026-5f7c-4dff-cc29-96f3d11dede1"
      },
      "source": [
        "tuned_parameters = [{'kernel': ['poly'], 'gamma': ['auto'],\n",
        "                     'C': [1, 10,20,30,40,50,60,70,80,90, 100, 1000], 'degree':[1,2,3,4],'epsilon':[0.01,0.05,0.1,0.2,0.3,0.4,0.5],\n",
        "                    'coef0':[1,2,3,4,5,6,7,8,9,10]}]\n",
        "#svr_rbf = SVR(kernel='rbf', C=100, gamma=0.1, epsilon=.1)\n",
        "\n",
        "score=['neg_mean_squared_error']\n",
        "ind, equity = data_load(300)\n",
        "ind,equity,corr=remove_features(ind,equity)\n",
        "trainX, trainY, validX, validY = input_data(ind,equity,700)\n",
        "print(trainX.shape, trainY.shape, validX.shape, validY.shape)\n",
        "\n",
        "model = GridSearchCV(\n",
        "        SVR(), tuned_parameters\n",
        "    )\n",
        "model.fit(trainX, trainY)\n",
        "#model = svr_poly.fit(trainX, trainY)\n",
        "print(model.score(validX,validY))"
      ],
      "execution_count": null,
      "outputs": [
        {
          "output_type": "stream",
          "text": [
            "/usr/local/lib/python3.6/dist-packages/ta/trend.py:608: RuntimeWarning: invalid value encountered in double_scalars\n",
            "  dip[i] = 100 * (self._dip[i]/self._trs[i])\n",
            "/usr/local/lib/python3.6/dist-packages/ta/trend.py:612: RuntimeWarning: invalid value encountered in double_scalars\n",
            "  din[i] = 100 * (self._din[i]/self._trs[i])\n"
          ],
          "name": "stderr"
        },
        {
          "output_type": "stream",
          "text": [
            "(700, 70) (700,) (1175, 70) (1175,)\n",
            "0.9999806815253335\n"
          ],
          "name": "stdout"
        }
      ]
    },
    {
      "cell_type": "code",
      "metadata": {
        "id": "bFyPPZsWcw-6",
        "colab_type": "code",
        "colab": {}
      },
      "source": [
        "model.best_params_"
      ],
      "execution_count": null,
      "outputs": []
    },
    {
      "cell_type": "code",
      "metadata": {
        "id": "m5ROXXhKdc7m",
        "colab_type": "code",
        "colab": {
          "base_uri": "https://localhost:8080/",
          "height": 53
        },
        "outputId": "854c294a-bafe-44f6-ab31-fa1193d6c09c"
      },
      "source": [
        "svr_poly = SVR(kernel='poly', C=250, gamma='auto', degree=2, epsilon=.1, coef0=10)\n",
        "svr_linear = SVR(kernel='linear',C=100,epsilon=0.1)\n",
        "ind, equity = data_load(43)\n",
        "days=900\n",
        "ind,equity,corr=remove_features(ind,equity)\n",
        "trainX, trainY, validX, validY = input_data(ind,equity,days)\n",
        "print(trainX.shape, validX.shape, trainY.shape, validY.shape)\n",
        "model_p = svr_poly.fit(trainX, trainY,)\n",
        "model_l = svr_linear.fit(trainX, trainY,)\n",
        "print(100-mean_absolute_error(validY, model_p.predict(validX)))\n",
        "#print(model_p.score(validX,validY),model_l.score(validX,validY))"
      ],
      "execution_count": 106,
      "outputs": [
        {
          "output_type": "stream",
          "text": [
            "(900, 56) (975, 56) (900,) (975,)\n",
            "96.51358431371534\n"
          ],
          "name": "stdout"
        }
      ]
    },
    {
      "cell_type": "code",
      "metadata": {
        "id": "Hy6T23Xq-J9m",
        "colab_type": "code",
        "colab": {
          "base_uri": "https://localhost:8080/",
          "height": 555
        },
        "outputId": "65d8fb72-3cfd-4578-be95-329d5f3a262d"
      },
      "source": [
        "#ypred_stack = stack.predict(validX)\n",
        "ypred_poly = model_p.predict(validX)\n",
        "matplotlib.style.use('ggplot')\n",
        "fig, ax1 = plt.subplots(figsize=(16, 9))\n",
        "#ax2 = ax1.twinx()\n",
        "# ax1.plot(ypred_stack,color='green')\n",
        "ax1.plot(ypred_poly,color='red')\n",
        "ax1.plot(validY,color='black')\n",
        "ax1.legend(['polynomial','true'])"
      ],
      "execution_count": 108,
      "outputs": [
        {
          "output_type": "execute_result",
          "data": {
            "text/plain": [
              "<matplotlib.legend.Legend at 0x7fd7bff1de80>"
            ]
          },
          "metadata": {
            "tags": []
          },
          "execution_count": 108
        },
        {
          "output_type": "display_data",
          "data": {
            "image/png": "[encoded data removed]",
            "text/plain": [
              "<Figure size 1152x648 with 1 Axes>"
            ]
          },
          "metadata": {
            "tags": []
          }
        }
      ]
    }
  ]
}